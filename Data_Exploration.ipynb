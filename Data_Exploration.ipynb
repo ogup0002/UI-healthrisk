{
 "cells": [
  {
   "cell_type": "markdown",
   "id": "0cae2830",
   "metadata": {},
   "source": [
    "## Data Exploration for Recommendation Engine Datasets"
   ]
  },
  {
   "cell_type": "code",
   "execution_count": 2,
   "id": "e1ffb06a",
   "metadata": {},
   "outputs": [
    {
     "data": {
      "text/plain": [
       "'\\n1. Weather\\n- Sunny\\n- Rainy\\n2. Physical Activities\\n- Outdoor\\n- Home Workout\\n- Cycling\\n- Walking\\n- Cardio\\n3. Personality Attribute\\n- Pet\\n- Nature\\n- Explore\\n4. Dietary Regime\\n- Diet Plan (Keto, Intermittent, Calorie Deficit)'"
      ]
     },
     "execution_count": 2,
     "metadata": {},
     "output_type": "execute_result"
    }
   ],
   "source": [
    "# Preferences Stages\n",
    "\n",
    "'''\n",
    "1. Weather\n",
    "- Sunny\n",
    "- Rainy\n",
    "2. Physical Activities\n",
    "- Outdoor\n",
    "- Home Workout\n",
    "- Cycling\n",
    "- Walking\n",
    "- Cardio\n",
    "3. Personality Attribute\n",
    "- Pet\n",
    "- Nature\n",
    "- Explore\n",
    "4. Dietary Regime\n",
    "- Diet Plan (Keto, Intermittent, Calorie Deficit)'''"
   ]
  },
  {
   "cell_type": "code",
   "execution_count": null,
   "id": "4675eb11",
   "metadata": {},
   "outputs": [],
   "source": [
    "'''\n",
    "Output Cards\n",
    "Physical Activity - 3\n",
    "Indoor - 2\n",
    "Diet - 2'''"
   ]
  },
  {
   "cell_type": "code",
   "execution_count": null,
   "id": "4aca64f1",
   "metadata": {},
   "outputs": [],
   "source": [
    "'''\n",
    "Tables in SQL\n",
    "- Parks\n",
    "- '''"
   ]
  },
  {
   "cell_type": "markdown",
   "id": "49fed8e9",
   "metadata": {},
   "source": [
    "### OPEN DATA\n",
    "1. Outdoor artworks <br>\n",
    " URL - https://data.melbourne.vic.gov.au/People/Outdoor-artworks/ue3p-kdsu \n",
    "\n",
    "\n",
    "2. Parks and green spaces in Melbourne <br>\n",
    " URL - https://data.melbourne.vic.gov.au/People/Landmarks-and-places-of-interest-including-schools/j5vt-ppat/data\n",
    "\n",
    "\n",
    "3. Bicycle tracks in Melbourne <br>\n",
    " URL - https://data.melbourne.vic.gov.au/Transport/Bicycle-Network/3bxw-t8fk\n",
    "\n",
    "\n",
    "4. Bicycle tracks in Melbourne <br>\n",
    " URL - https://data.melbourne.vic.gov.au/Transport/Bicycle-routes-including-informal-on-road-and-off-/24aw-nd3i\n",
    "\n",
    "\n",
    "5. Public Memorials & Monuments & Fountains <br>\n",
    " URL - https://data.gov.au/dataset/ds-melbourne-https%3A%2F%2Fdata.melbourne.vic.gov.au%2Fapi%2Fviews%2Fuqhf-q5h7/details?q=Melbourne%20city\n",
    "\n",
    "\n",
    "6. Dog walking parks <br>\n",
    " URL - https://data.melbourne.vic.gov.au/People/Dog-Walking-Zones/vzb2-a2kz\n",
    "\n"
   ]
  },
  {
   "cell_type": "code",
   "execution_count": 43,
   "id": "d4a00603",
   "metadata": {},
   "outputs": [],
   "source": [
    "# Imports\n",
    "import pandas as pd\n",
    "import matplotlib.pyplot as plt"
   ]
  },
  {
   "cell_type": "code",
   "execution_count": 38,
   "id": "8e107a1f",
   "metadata": {
    "scrolled": false
   },
   "outputs": [],
   "source": [
    "sculpture = pd.read_csv(r\"D:\\Notes\\IE\\Recommendation System\\Dataset_Raw\\sculpture.csv\")\n",
    "landmark = pd.read_csv(r\"D:\\Notes\\IE\\Recommendation System\\Dataset_Raw\\landmarks.csv\")\n",
    "bike = pd.read_csv(r\"D:\\Notes\\IE\\Recommendation System\\Dataset_Raw\\com_bike_routes.csv\")\n",
    "play = pd.read_csv(r\"D:\\Notes\\IE\\Recommendation System\\Dataset_Raw\\playgrounds.csv\")"
   ]
  },
  {
   "cell_type": "markdown",
   "id": "e7856a3d",
   "metadata": {},
   "source": [
    "#### 1. Sculpture Dataset"
   ]
  },
  {
   "cell_type": "code",
   "execution_count": 40,
   "id": "77866350",
   "metadata": {},
   "outputs": [
    {
     "data": {
      "text/html": [
       "<div>\n",
       "<style scoped>\n",
       "    .dataframe tbody tr th:only-of-type {\n",
       "        vertical-align: middle;\n",
       "    }\n",
       "\n",
       "    .dataframe tbody tr th {\n",
       "        vertical-align: top;\n",
       "    }\n",
       "\n",
       "    .dataframe thead th {\n",
       "        text-align: right;\n",
       "    }\n",
       "</style>\n",
       "<table border=\"1\" class=\"dataframe\">\n",
       "  <thead>\n",
       "    <tr style=\"text-align: right;\">\n",
       "      <th></th>\n",
       "      <th>Company</th>\n",
       "      <th>Service manager</th>\n",
       "      <th>the_geom</th>\n",
       "      <th>Asset_id</th>\n",
       "      <th>Property</th>\n",
       "      <th>Road segment</th>\n",
       "      <th>Location</th>\n",
       "      <th>Owner type</th>\n",
       "      <th>Title</th>\n",
       "      <th>Object type</th>\n",
       "      <th>Classification</th>\n",
       "      <th>Description</th>\n",
       "      <th>Inscription</th>\n",
       "      <th>History</th>\n",
       "      <th>Makers</th>\n",
       "      <th>Art date</th>\n",
       "      <th>Latitude</th>\n",
       "      <th>Longitude</th>\n",
       "    </tr>\n",
       "  </thead>\n",
       "  <tbody>\n",
       "    <tr>\n",
       "      <th>0</th>\n",
       "      <td>City of Melbourne</td>\n",
       "      <td>Arts &amp; Culture Branch</td>\n",
       "      <td>POINT (144.92393918797248 -37.79020534335677)</td>\n",
       "      <td>1091168</td>\n",
       "      <td>NaN</td>\n",
       "      <td>Epsom Road between Westbourne Road and Smithfi...</td>\n",
       "      <td>Epsom Road between Westbourne Road and Smithfi...</td>\n",
       "      <td>Owned</td>\n",
       "      <td>Lynch''''s Bridge Mosaic Mural</td>\n",
       "      <td>Mural</td>\n",
       "      <td>Sculpture</td>\n",
       "      <td>The mural depicts the stockmen with their hors...</td>\n",
       "      <td>NaN</td>\n",
       "      <td>NaN</td>\n",
       "      <td>McKinnon, Elizabeth</td>\n",
       "      <td>1990-92</td>\n",
       "      <td>144.923939</td>\n",
       "      <td>-37.790205</td>\n",
       "    </tr>\n",
       "    <tr>\n",
       "      <th>1</th>\n",
       "      <td>City of Melbourne</td>\n",
       "      <td>Parks Services Branch</td>\n",
       "      <td>POINT (144.97348397026266 -37.80977063998943)</td>\n",
       "      <td>1091146</td>\n",
       "      <td>Parliament Reserve</td>\n",
       "      <td>NaN</td>\n",
       "      <td>Parliament Reserve</td>\n",
       "      <td>Owned</td>\n",
       "      <td>Coles Fountain</td>\n",
       "      <td>Fountain</td>\n",
       "      <td>Memorials</td>\n",
       "      <td>Sited in Parliament Gardens, his Coles Fountai...</td>\n",
       "      <td>A gift to the people of Victoria from G.J. Col...</td>\n",
       "      <td>NaN</td>\n",
       "      <td>Woodward, Robert</td>\n",
       "      <td>1981</td>\n",
       "      <td>144.973484</td>\n",
       "      <td>-37.809771</td>\n",
       "    </tr>\n",
       "    <tr>\n",
       "      <th>2</th>\n",
       "      <td>City of Melbourne</td>\n",
       "      <td>Arts &amp; Culture Branch</td>\n",
       "      <td>POINT (144.96706152142454 -37.81642362550678)</td>\n",
       "      <td>1087398</td>\n",
       "      <td>NaN</td>\n",
       "      <td>Intersection of Swanston Street and Flinders Lane</td>\n",
       "      <td>Intersection of Swanston Street and Flinders L...</td>\n",
       "      <td>Owned</td>\n",
       "      <td>Beyond the Ocean of Existence</td>\n",
       "      <td>Sculpture</td>\n",
       "      <td>Sculpture</td>\n",
       "      <td>A patinated bronze sculpture, Beyond the Ocean...</td>\n",
       "      <td>NaN</td>\n",
       "      <td>NaN</td>\n",
       "      <td>Quinn, Loretta</td>\n",
       "      <td>1993</td>\n",
       "      <td>144.967062</td>\n",
       "      <td>-37.816424</td>\n",
       "    </tr>\n",
       "    <tr>\n",
       "      <th>3</th>\n",
       "      <td>City of Melbourne</td>\n",
       "      <td>Arts &amp; Culture Branch</td>\n",
       "      <td>POINT (144.96773271682704 -37.82607139191802)</td>\n",
       "      <td>1086752</td>\n",
       "      <td>Malthouse Plaza</td>\n",
       "      <td>NaN</td>\n",
       "      <td>Malthouse Plaza approximately 33m NW of CitiPo...</td>\n",
       "      <td>Owned</td>\n",
       "      <td>Vault</td>\n",
       "      <td>Sculpture</td>\n",
       "      <td>Sculpture</td>\n",
       "      <td>Yellow painted welded plate steel sculpture.&lt;b...</td>\n",
       "      <td>NaN</td>\n",
       "      <td>NaN</td>\n",
       "      <td>Robertson Swann, Ron &lt;br&gt;</td>\n",
       "      <td>1980</td>\n",
       "      <td>144.967733</td>\n",
       "      <td>-37.826071</td>\n",
       "    </tr>\n",
       "    <tr>\n",
       "      <th>4</th>\n",
       "      <td>City of Melbourne</td>\n",
       "      <td>Arts &amp; Culture Branch</td>\n",
       "      <td>POINT (144.97281890582408 -37.82630110126131)</td>\n",
       "      <td>1086525</td>\n",
       "      <td>Kings Domain</td>\n",
       "      <td>NaN</td>\n",
       "      <td>Kings Domain approximately 93m NE of Marquis o...</td>\n",
       "      <td>Owned</td>\n",
       "      <td>Sir Thomas Blamey Memorial</td>\n",
       "      <td>Memorial</td>\n",
       "      <td>Sculpture</td>\n",
       "      <td>One rectangular cubic pedestal realised on gra...</td>\n",
       "      <td>Field Marshal Sir Thomas Albert Blamey / G.B.E...</td>\n",
       "      <td>NaN</td>\n",
       "      <td>EWERS, Raymond B.</td>\n",
       "      <td>1958</td>\n",
       "      <td>144.972819</td>\n",
       "      <td>-37.826301</td>\n",
       "    </tr>\n",
       "  </tbody>\n",
       "</table>\n",
       "</div>"
      ],
      "text/plain": [
       "             Company        Service manager  \\\n",
       "0  City of Melbourne  Arts & Culture Branch   \n",
       "1  City of Melbourne  Parks Services Branch   \n",
       "2  City of Melbourne  Arts & Culture Branch   \n",
       "3  City of Melbourne  Arts & Culture Branch   \n",
       "4  City of Melbourne  Arts & Culture Branch   \n",
       "\n",
       "                                        the_geom  Asset_id  \\\n",
       "0  POINT (144.92393918797248 -37.79020534335677)   1091168   \n",
       "1  POINT (144.97348397026266 -37.80977063998943)   1091146   \n",
       "2  POINT (144.96706152142454 -37.81642362550678)   1087398   \n",
       "3  POINT (144.96773271682704 -37.82607139191802)   1086752   \n",
       "4  POINT (144.97281890582408 -37.82630110126131)   1086525   \n",
       "\n",
       "             Property                                       Road segment  \\\n",
       "0                 NaN  Epsom Road between Westbourne Road and Smithfi...   \n",
       "1  Parliament Reserve                                                NaN   \n",
       "2                 NaN  Intersection of Swanston Street and Flinders Lane   \n",
       "3     Malthouse Plaza                                                NaN   \n",
       "4        Kings Domain                                                NaN   \n",
       "\n",
       "                                            Location Owner type  \\\n",
       "0  Epsom Road between Westbourne Road and Smithfi...      Owned   \n",
       "1                                Parliament Reserve       Owned   \n",
       "2  Intersection of Swanston Street and Flinders L...      Owned   \n",
       "3  Malthouse Plaza approximately 33m NW of CitiPo...      Owned   \n",
       "4  Kings Domain approximately 93m NE of Marquis o...      Owned   \n",
       "\n",
       "                            Title Object type Classification  \\\n",
       "0  Lynch''''s Bridge Mosaic Mural       Mural      Sculpture   \n",
       "1                  Coles Fountain    Fountain      Memorials   \n",
       "2   Beyond the Ocean of Existence   Sculpture      Sculpture   \n",
       "3                           Vault   Sculpture      Sculpture   \n",
       "4      Sir Thomas Blamey Memorial    Memorial      Sculpture   \n",
       "\n",
       "                                         Description  \\\n",
       "0  The mural depicts the stockmen with their hors...   \n",
       "1  Sited in Parliament Gardens, his Coles Fountai...   \n",
       "2  A patinated bronze sculpture, Beyond the Ocean...   \n",
       "3  Yellow painted welded plate steel sculpture.<b...   \n",
       "4  One rectangular cubic pedestal realised on gra...   \n",
       "\n",
       "                                         Inscription History  \\\n",
       "0                                                NaN     NaN   \n",
       "1  A gift to the people of Victoria from G.J. Col...     NaN   \n",
       "2                                                NaN     NaN   \n",
       "3                                                NaN     NaN   \n",
       "4  Field Marshal Sir Thomas Albert Blamey / G.B.E...     NaN   \n",
       "\n",
       "                      Makers Art date    Latitude  Longitude  \n",
       "0       McKinnon, Elizabeth   1990-92  144.923939 -37.790205  \n",
       "1          Woodward, Robert      1981  144.973484 -37.809771  \n",
       "2            Quinn, Loretta      1993  144.967062 -37.816424  \n",
       "3  Robertson Swann, Ron <br>     1980  144.967733 -37.826071  \n",
       "4         EWERS, Raymond B.      1958  144.972819 -37.826301  "
      ]
     },
     "execution_count": 40,
     "metadata": {},
     "output_type": "execute_result"
    }
   ],
   "source": [
    "sculpture.head()"
   ]
  },
  {
   "cell_type": "code",
   "execution_count": 39,
   "id": "3dac67d9",
   "metadata": {},
   "outputs": [
    {
     "data": {
      "text/plain": [
       "array(['Sculpture', 'Memorials', 'Unknown', 'Indigenous', 'Horology',\n",
       "       'Illustrations', 'Ceramic', nan], dtype=object)"
      ]
     },
     "execution_count": 39,
     "metadata": {},
     "output_type": "execute_result"
    }
   ],
   "source": [
    "sculpture['Classification'].unique()"
   ]
  },
  {
   "cell_type": "code",
   "execution_count": 47,
   "id": "93ab260c",
   "metadata": {},
   "outputs": [
    {
     "data": {
      "text/plain": [
       "array(['Arts & Culture Branch', 'Parks Services Branch', nan],\n",
       "      dtype=object)"
      ]
     },
     "execution_count": 47,
     "metadata": {},
     "output_type": "execute_result"
    }
   ],
   "source": [
    "sculpture['Service manager'].unique()"
   ]
  },
  {
   "cell_type": "code",
   "execution_count": 42,
   "id": "d184d38d",
   "metadata": {},
   "outputs": [
    {
     "data": {
      "text/plain": [
       "Company              6\n",
       "Service manager     68\n",
       "the_geom             0\n",
       "Asset_id             0\n",
       "Property            51\n",
       "Road segment       156\n",
       "Location             2\n",
       "Owner type           2\n",
       "Title                0\n",
       "Object type          0\n",
       "Classification       1\n",
       "Description          0\n",
       "Inscription        109\n",
       "History            163\n",
       "Makers               8\n",
       "Art date             3\n",
       "Latitude             0\n",
       "Longitude            0\n",
       "dtype: int64"
      ]
     },
     "execution_count": 42,
     "metadata": {},
     "output_type": "execute_result"
    }
   ],
   "source": [
    "sculpture.isnull().sum()"
   ]
  },
  {
   "cell_type": "code",
   "execution_count": 44,
   "id": "15f0bc85",
   "metadata": {},
   "outputs": [
    {
     "data": {
      "text/plain": [
       "<AxesSubplot:>"
      ]
     },
     "execution_count": 44,
     "metadata": {},
     "output_type": "execute_result"
    },
    {
     "data": {
      "image/png": "[encoded data removed]",
      "text/plain": [
       "<Figure size 432x288 with 1 Axes>"
      ]
     },
     "metadata": {
      "needs_background": "light"
     },
     "output_type": "display_data"
    }
   ],
   "source": [
    "pd.value_counts(sculpture['Object type']).plot.bar()"
   ]
  },
  {
   "cell_type": "code",
   "execution_count": 48,
   "id": "07f00481",
   "metadata": {},
   "outputs": [
    {
     "data": {
      "text/plain": [
       "<AxesSubplot:>"
      ]
     },
     "execution_count": 48,
     "metadata": {},
     "output_type": "execute_result"
    },
    {
     "data": {
      "image/png": "[encoded data removed]",
      "text/plain": [
       "<Figure size 432x288 with 1 Axes>"
      ]
     },
     "metadata": {
      "needs_background": "light"
     },
     "output_type": "display_data"
    }
   ],
   "source": [
    "pd.value_counts(sculpture['Classification']).plot.bar()"
   ]
  },
  {
   "cell_type": "markdown",
   "id": "a7953952",
   "metadata": {},
   "source": [
    "##### Useful Columns\n",
    "1. Object Type <br>\n",
    "2. Classification <br>\n",
    "3. Lat <br>\n",
    "4. Long"
   ]
  },
  {
   "cell_type": "markdown",
   "id": "08a661da",
   "metadata": {},
   "source": [
    "#### 2. Landmark Dataset"
   ]
  },
  {
   "cell_type": "code",
   "execution_count": 45,
   "id": "1d0978f3",
   "metadata": {},
   "outputs": [
    {
     "data": {
      "text/html": [
       "<div>\n",
       "<style scoped>\n",
       "    .dataframe tbody tr th:only-of-type {\n",
       "        vertical-align: middle;\n",
       "    }\n",
       "\n",
       "    .dataframe tbody tr th {\n",
       "        vertical-align: top;\n",
       "    }\n",
       "\n",
       "    .dataframe thead th {\n",
       "        text-align: right;\n",
       "    }\n",
       "</style>\n",
       "<table border=\"1\" class=\"dataframe\">\n",
       "  <thead>\n",
       "    <tr style=\"text-align: right;\">\n",
       "      <th></th>\n",
       "      <th>Theme</th>\n",
       "      <th>Sub Theme</th>\n",
       "      <th>Feature Name</th>\n",
       "      <th>Co-ordinates</th>\n",
       "    </tr>\n",
       "  </thead>\n",
       "  <tbody>\n",
       "    <tr>\n",
       "      <th>0</th>\n",
       "      <td>Transport</td>\n",
       "      <td>Railway Station</td>\n",
       "      <td>Flemington Bridge Railway Station</td>\n",
       "      <td>(-37.7881645889621, 144.939277838304)</td>\n",
       "    </tr>\n",
       "    <tr>\n",
       "      <th>1</th>\n",
       "      <td>Mixed Use</td>\n",
       "      <td>Retail/Office/Carpark</td>\n",
       "      <td>Council House 2 (CH2)</td>\n",
       "      <td>(-37.8142591432011, 144.966638432727)</td>\n",
       "    </tr>\n",
       "    <tr>\n",
       "      <th>2</th>\n",
       "      <td>Place Of Assembly</td>\n",
       "      <td>Library</td>\n",
       "      <td>The Melbourne Athenaeum Library</td>\n",
       "      <td>(-37.8148855756416, 144.967291289941)</td>\n",
       "    </tr>\n",
       "    <tr>\n",
       "      <th>3</th>\n",
       "      <td>Leisure/Recreation</td>\n",
       "      <td>Informal Outdoor Facility (Park/Garden/Reserve)</td>\n",
       "      <td>Carlton Gardens South</td>\n",
       "      <td>(-37.8060684577258, 144.971266479841)</td>\n",
       "    </tr>\n",
       "    <tr>\n",
       "      <th>4</th>\n",
       "      <td>Place of Worship</td>\n",
       "      <td>Church</td>\n",
       "      <td>St Francis Church</td>\n",
       "      <td>(-37.8118847831837, 144.962422614541)</td>\n",
       "    </tr>\n",
       "  </tbody>\n",
       "</table>\n",
       "</div>"
      ],
      "text/plain": [
       "                Theme                                        Sub Theme  \\\n",
       "0           Transport                                  Railway Station   \n",
       "1           Mixed Use                            Retail/Office/Carpark   \n",
       "2   Place Of Assembly                                          Library   \n",
       "3  Leisure/Recreation  Informal Outdoor Facility (Park/Garden/Reserve)   \n",
       "4    Place of Worship                                           Church   \n",
       "\n",
       "                        Feature Name                           Co-ordinates  \n",
       "0  Flemington Bridge Railway Station  (-37.7881645889621, 144.939277838304)  \n",
       "1              Council House 2 (CH2)  (-37.8142591432011, 144.966638432727)  \n",
       "2    The Melbourne Athenaeum Library  (-37.8148855756416, 144.967291289941)  \n",
       "3              Carlton Gardens South  (-37.8060684577258, 144.971266479841)  \n",
       "4                  St Francis Church  (-37.8118847831837, 144.962422614541)  "
      ]
     },
     "execution_count": 45,
     "metadata": {},
     "output_type": "execute_result"
    }
   ],
   "source": [
    "landmark.head()"
   ]
  },
  {
   "cell_type": "code",
   "execution_count": 35,
   "id": "3643b176",
   "metadata": {},
   "outputs": [
    {
     "data": {
      "text/plain": [
       "array(['Railway Station', 'Retail/Office/Carpark', 'Library',\n",
       "       'Informal Outdoor Facility (Park/Garden/Reserve)', 'Church',\n",
       "       'Private Hospital', 'Synagogue', 'Police Station',\n",
       "       'Visitor Centre', 'Major Sports & Recreation Facility',\n",
       "       'Transport Terminal', 'Private Sports Club/Facility', 'Cemetery',\n",
       "       'Retail', 'Primary Schools', 'Art Gallery/Museum',\n",
       "       'Secondary Schools', 'School - Primary and Secondary Education',\n",
       "       'Theatre Live', 'Tertiary (University)', 'Public Buildings',\n",
       "       'Retail/Office', 'Office', 'Government Building',\n",
       "       'Outdoor Recreation Facility (Zoo, Golf Course)',\n",
       "       'Function/Conference/Exhibition Centre',\n",
       "       'Vacant Land - Undeveloped Site', 'Casino', 'Public Hospital',\n",
       "       'Film & RV Studio', 'Current Construction Site', 'Marina',\n",
       "       'Observation Tower/Wheel', 'Further Education', 'Hostel',\n",
       "       'Current Construction Site - Commercial', 'Cinema',\n",
       "       'Indoor Recreation Facility', 'Dwelling (House)',\n",
       "       'Industrial (Manufacturing)', 'Store Yard', 'Fire Station',\n",
       "       'Retail/Office/Residential/Carpark', 'Gymnasium/Health Club',\n",
       "       'Aquarium', 'Retail/Residential', 'Bridge', 'Department Store',\n",
       "       'Medical Services'], dtype=object)"
      ]
     },
     "execution_count": 35,
     "metadata": {},
     "output_type": "execute_result"
    }
   ],
   "source": [
    "landmark['Sub Theme'].unique()"
   ]
  },
  {
   "cell_type": "code",
   "execution_count": 49,
   "id": "71d89a46",
   "metadata": {},
   "outputs": [
    {
     "data": {
      "text/plain": [
       "<AxesSubplot:>"
      ]
     },
     "execution_count": 49,
     "metadata": {},
     "output_type": "execute_result"
    },
    {
     "data": {
      "image/png": "[encoded data removed]",
      "text/plain": [
       "<Figure size 432x288 with 1 Axes>"
      ]
     },
     "metadata": {
      "needs_background": "light"
     },
     "output_type": "display_data"
    }
   ],
   "source": [
    "pd.value_counts(landmark['Sub Theme']).plot.bar()"
   ]
  },
  {
   "cell_type": "code",
   "execution_count": 50,
   "id": "4e6b8259",
   "metadata": {},
   "outputs": [
    {
     "data": {
      "text/plain": [
       "<AxesSubplot:>"
      ]
     },
     "execution_count": 50,
     "metadata": {},
     "output_type": "execute_result"
    },
    {
     "data": {
      "image/png": "[encoded data removed]",
      "text/plain": [
       "<Figure size 432x288 with 1 Axes>"
      ]
     },
     "metadata": {
      "needs_background": "light"
     },
     "output_type": "display_data"
    }
   ],
   "source": [
    "pd.value_counts(landmark['Theme']).plot.bar()"
   ]
  },
  {
   "cell_type": "code",
   "execution_count": 52,
   "id": "25b124a0",
   "metadata": {},
   "outputs": [
    {
     "data": {
      "text/plain": [
       "Theme           0\n",
       "Sub Theme       0\n",
       "Feature Name    0\n",
       "Co-ordinates    0\n",
       "dtype: int64"
      ]
     },
     "execution_count": 52,
     "metadata": {},
     "output_type": "execute_result"
    }
   ],
   "source": [
    "landmark.isnull().sum()"
   ]
  },
  {
   "cell_type": "markdown",
   "id": "58b4472e",
   "metadata": {},
   "source": [
    "#### 3. Bicycle Ride Dataset"
   ]
  },
  {
   "cell_type": "code",
   "execution_count": 30,
   "id": "3b4552b1",
   "metadata": {},
   "outputs": [
    {
     "data": {
      "text/html": [
       "<div>\n",
       "<style scoped>\n",
       "    .dataframe tbody tr th:only-of-type {\n",
       "        vertical-align: middle;\n",
       "    }\n",
       "\n",
       "    .dataframe tbody tr th {\n",
       "        vertical-align: top;\n",
       "    }\n",
       "\n",
       "    .dataframe thead th {\n",
       "        text-align: right;\n",
       "    }\n",
       "</style>\n",
       "<table border=\"1\" class=\"dataframe\">\n",
       "  <thead>\n",
       "    <tr style=\"text-align: right;\">\n",
       "      <th></th>\n",
       "      <th>the_geom</th>\n",
       "      <th>info</th>\n",
       "      <th>direction</th>\n",
       "      <th>type</th>\n",
       "      <th>notes</th>\n",
       "      <th>name</th>\n",
       "      <th>status</th>\n",
       "    </tr>\n",
       "  </thead>\n",
       "  <tbody>\n",
       "    <tr>\n",
       "      <th>0</th>\n",
       "      <td>MULTILINESTRING ((144.942712026961 -37.8073553...</td>\n",
       "      <td>NaN</td>\n",
       "      <td>Both Directions</td>\n",
       "      <td>On-Road Bike Lane</td>\n",
       "      <td>NaN</td>\n",
       "      <td>On-Road Bike Lane</td>\n",
       "      <td>NaN</td>\n",
       "    </tr>\n",
       "    <tr>\n",
       "      <th>1</th>\n",
       "      <td>MULTILINESTRING ((144.954502798069 -37.7831106...</td>\n",
       "      <td>NaN</td>\n",
       "      <td>Both Directions</td>\n",
       "      <td>Off-Road Bike Route</td>\n",
       "      <td>NaN</td>\n",
       "      <td>Off-Road Bike Route</td>\n",
       "      <td>NaN</td>\n",
       "    </tr>\n",
       "    <tr>\n",
       "      <th>2</th>\n",
       "      <td>MULTILINESTRING ((144.93443056586 -37.81607061...</td>\n",
       "      <td>NaN</td>\n",
       "      <td>Both Directions</td>\n",
       "      <td>Off-Road Bike Route</td>\n",
       "      <td>NaN</td>\n",
       "      <td>Off-Road Bike Route</td>\n",
       "      <td>NaN</td>\n",
       "    </tr>\n",
       "    <tr>\n",
       "      <th>3</th>\n",
       "      <td>MULTILINESTRING ((144.951780451295 -37.7902315...</td>\n",
       "      <td>NaN</td>\n",
       "      <td>Both Directions</td>\n",
       "      <td>Off-Road Bike Route</td>\n",
       "      <td>NaN</td>\n",
       "      <td>Off-Road Bike Route</td>\n",
       "      <td>NaN</td>\n",
       "    </tr>\n",
       "    <tr>\n",
       "      <th>4</th>\n",
       "      <td>MULTILINESTRING ((144.951739870439 -37.8232030...</td>\n",
       "      <td>NaN</td>\n",
       "      <td>Both Directions</td>\n",
       "      <td>Off-Road Bike Route</td>\n",
       "      <td>NaN</td>\n",
       "      <td>Off-Road Bike Route - Capital City Trail</td>\n",
       "      <td>NaN</td>\n",
       "    </tr>\n",
       "  </tbody>\n",
       "</table>\n",
       "</div>"
      ],
      "text/plain": [
       "                                            the_geom  info        direction  \\\n",
       "0  MULTILINESTRING ((144.942712026961 -37.8073553...   NaN  Both Directions   \n",
       "1  MULTILINESTRING ((144.954502798069 -37.7831106...   NaN  Both Directions   \n",
       "2  MULTILINESTRING ((144.93443056586 -37.81607061...   NaN  Both Directions   \n",
       "3  MULTILINESTRING ((144.951780451295 -37.7902315...   NaN  Both Directions   \n",
       "4  MULTILINESTRING ((144.951739870439 -37.8232030...   NaN  Both Directions   \n",
       "\n",
       "                  type notes                                      name status  \n",
       "0    On-Road Bike Lane   NaN                         On-Road Bike Lane    NaN  \n",
       "1  Off-Road Bike Route   NaN                       Off-Road Bike Route    NaN  \n",
       "2  Off-Road Bike Route   NaN                       Off-Road Bike Route    NaN  \n",
       "3  Off-Road Bike Route   NaN                       Off-Road Bike Route    NaN  \n",
       "4  Off-Road Bike Route   NaN  Off-Road Bike Route - Capital City Trail    NaN  "
      ]
     },
     "execution_count": 30,
     "metadata": {},
     "output_type": "execute_result"
    }
   ],
   "source": [
    "bike.head()"
   ]
  },
  {
   "cell_type": "code",
   "execution_count": 53,
   "id": "d49832ae",
   "metadata": {},
   "outputs": [
    {
     "data": {
      "text/plain": [
       "the_geom       0\n",
       "info         274\n",
       "direction      0\n",
       "type           0\n",
       "notes        245\n",
       "name           0\n",
       "status       235\n",
       "dtype: int64"
      ]
     },
     "execution_count": 53,
     "metadata": {},
     "output_type": "execute_result"
    }
   ],
   "source": [
    "bike.isnull().sum()"
   ]
  },
  {
   "cell_type": "markdown",
   "id": "76355ece",
   "metadata": {},
   "source": [
    "#### 4. Playground Dataset"
   ]
  },
  {
   "cell_type": "code",
   "execution_count": 31,
   "id": "670b9ba6",
   "metadata": {
    "scrolled": false
   },
   "outputs": [
    {
     "data": {
      "text/html": [
       "<div>\n",
       "<style scoped>\n",
       "    .dataframe tbody tr th:only-of-type {\n",
       "        vertical-align: middle;\n",
       "    }\n",
       "\n",
       "    .dataframe tbody tr th {\n",
       "        vertical-align: top;\n",
       "    }\n",
       "\n",
       "    .dataframe thead th {\n",
       "        text-align: right;\n",
       "    }\n",
       "</style>\n",
       "<table border=\"1\" class=\"dataframe\">\n",
       "  <thead>\n",
       "    <tr style=\"text-align: right;\">\n",
       "      <th></th>\n",
       "      <th>the_geom</th>\n",
       "      <th>name</th>\n",
       "      <th>features</th>\n",
       "      <th>council_re</th>\n",
       "      <th>location_d</th>\n",
       "    </tr>\n",
       "  </thead>\n",
       "  <tbody>\n",
       "    <tr>\n",
       "      <th>0</th>\n",
       "      <td>MULTIPOLYGON (((144.940478626299 -37.798936258...</td>\n",
       "      <td>North Melbourne Recreation Reserve Multi Purpo...</td>\n",
       "      <td>Basketball rings, synthetic surface</td>\n",
       "      <td>1775918</td>\n",
       "      <td>NaN</td>\n",
       "    </tr>\n",
       "    <tr>\n",
       "      <th>1</th>\n",
       "      <td>MULTIPOLYGON (((144.981810957539 -37.811687233...</td>\n",
       "      <td>Fitzroy Gardens Playground</td>\n",
       "      <td>Dragon slide, sandpit, giraffe swing, public t...</td>\n",
       "      <td>1450805</td>\n",
       "      <td>NaN</td>\n",
       "    </tr>\n",
       "    <tr>\n",
       "      <th>2</th>\n",
       "      <td>MULTIPOLYGON (((144.936562339811 -37.822143689...</td>\n",
       "      <td>Wharfs Landing Park</td>\n",
       "      <td>NaN</td>\n",
       "      <td>1764817</td>\n",
       "      <td>NaN</td>\n",
       "    </tr>\n",
       "    <tr>\n",
       "      <th>3</th>\n",
       "      <td>MULTIPOLYGON (((144.925680973354 -37.797574451...</td>\n",
       "      <td>Holland Park Playground</td>\n",
       "      <td>Pirate ship play structure, rocking swing, roc...</td>\n",
       "      <td>1450808</td>\n",
       "      <td>Near Altona Street</td>\n",
       "    </tr>\n",
       "    <tr>\n",
       "      <th>4</th>\n",
       "      <td>MULTIPOLYGON (((144.968615802486 -37.825898944...</td>\n",
       "      <td>Grant Street Playground</td>\n",
       "      <td>Sandpit, Carousel, Slide, Swing</td>\n",
       "      <td>1487286</td>\n",
       "      <td>NaN</td>\n",
       "    </tr>\n",
       "  </tbody>\n",
       "</table>\n",
       "</div>"
      ],
      "text/plain": [
       "                                            the_geom  \\\n",
       "0  MULTIPOLYGON (((144.940478626299 -37.798936258...   \n",
       "1  MULTIPOLYGON (((144.981810957539 -37.811687233...   \n",
       "2  MULTIPOLYGON (((144.936562339811 -37.822143689...   \n",
       "3  MULTIPOLYGON (((144.925680973354 -37.797574451...   \n",
       "4  MULTIPOLYGON (((144.968615802486 -37.825898944...   \n",
       "\n",
       "                                                name  \\\n",
       "0  North Melbourne Recreation Reserve Multi Purpo...   \n",
       "1                         Fitzroy Gardens Playground   \n",
       "2                                Wharfs Landing Park   \n",
       "3                            Holland Park Playground   \n",
       "4                            Grant Street Playground   \n",
       "\n",
       "                                            features  council_re  \\\n",
       "0                Basketball rings, synthetic surface     1775918   \n",
       "1  Dragon slide, sandpit, giraffe swing, public t...     1450805   \n",
       "2                                                NaN     1764817   \n",
       "3  Pirate ship play structure, rocking swing, roc...     1450808   \n",
       "4                    Sandpit, Carousel, Slide, Swing     1487286   \n",
       "\n",
       "           location_d  \n",
       "0                 NaN  \n",
       "1                 NaN  \n",
       "2                 NaN  \n",
       "3  Near Altona Street  \n",
       "4                 NaN  "
      ]
     },
     "execution_count": 31,
     "metadata": {},
     "output_type": "execute_result"
    }
   ],
   "source": [
    "play.head()"
   ]
  },
  {
   "cell_type": "code",
   "execution_count": 54,
   "id": "2782de24",
   "metadata": {},
   "outputs": [
    {
     "data": {
      "text/plain": [
       "the_geom       0\n",
       "name           0\n",
       "features       6\n",
       "council_re     0\n",
       "location_d    40\n",
       "dtype: int64"
      ]
     },
     "execution_count": 54,
     "metadata": {},
     "output_type": "execute_result"
    }
   ],
   "source": [
    "play.isnull().sum()"
   ]
  },
  {
   "cell_type": "markdown",
   "id": "8c8ae633",
   "metadata": {},
   "source": [
    "## PREFERENCES\n",
    "\n",
    "Location (Dynamic) - Distance Measure using Haversine formula <br>\n",
    "Weather (Dynamic)<br>\n",
    "Outdoor Physical Activity<br>\n",
    "Home workout<br>\n",
    "Cycling - If selected - 1. Own a cycle or not?<br>\n",
    "Cardio<br>\n",
    "Walking<br>\n",
    "Sunny (Boolean)<br>\n",
    "Rainy (Boolean)<br>\n",
    "Pet<br>\n",
    "Nature<br>\n",
    "Explore (Near or Around)<br>\n",
    "Working Hours<br>"
   ]
  },
  {
   "cell_type": "code",
   "execution_count": null,
   "id": "bb374553",
   "metadata": {},
   "outputs": [],
   "source": []
  }
 ],
 "metadata": {
  "kernelspec": {
   "display_name": "Python 3 (ipykernel)",
   "language": "python",
   "name": "python3"
  },
  "language_info": {
   "codemirror_mode": {
    "name": "ipython",
    "version": 3
   },
   "file_extension": ".py",
   "mimetype": "text/x-python",
   "name": "python",
   "nbconvert_exporter": "python",
   "pygments_lexer": "ipython3",
   "version": "3.9.7"
  }
 },
 "nbformat": 4,
 "nbformat_minor": 5
}
