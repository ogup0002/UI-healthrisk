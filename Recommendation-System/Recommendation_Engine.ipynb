{
 "cells": [
  {
   "cell_type": "code",
   "execution_count": 9,
   "id": "9cd5d511",
   "metadata": {},
   "outputs": [],
   "source": [
    "import pandas as pd\n",
    "import requests"
   ]
  },
  {
   "cell_type": "code",
   "execution_count": 189,
   "id": "0dcb6323",
   "metadata": {},
   "outputs": [],
   "source": [
    "#!pip install requests"
   ]
  },
  {
   "cell_type": "code",
   "execution_count": 44,
   "id": "13a0c6b8",
   "metadata": {},
   "outputs": [],
   "source": [
    "#url = \"https://api.openweathermap.org/data/3.0/onecall?lat=-37.840935&lon=144.946457&exclude=minutely&appid=c92389d6904463e3cb24208905434fd9\"\n",
    "url = \"https://api.openweathermap.org/data/2.5/weather?lat=-37.840935&lon=144.946457&appid=c92389d6904463e3cb24208905434fd9\"\n",
    "response = requests.get(url)"
   ]
  },
  {
   "cell_type": "code",
   "execution_count": 45,
   "id": "dc942eba",
   "metadata": {},
   "outputs": [],
   "source": [
    "json = response.json()"
   ]
  },
  {
   "cell_type": "code",
   "execution_count": 53,
   "id": "21182b07",
   "metadata": {},
   "outputs": [
    {
     "data": {
      "text/plain": [
       "'overcast clouds'"
      ]
     },
     "execution_count": 53,
     "metadata": {},
     "output_type": "execute_result"
    }
   ],
   "source": [
    "json['weather'][0]['description']"
   ]
  },
  {
   "cell_type": "code",
   "execution_count": 362,
   "id": "2982abf8",
   "metadata": {},
   "outputs": [],
   "source": [
    "data = pd.read_csv('outdoor.csv')"
   ]
  },
  {
   "cell_type": "code",
   "execution_count": 363,
   "id": "76cc3ae3",
   "metadata": {},
   "outputs": [],
   "source": [
    "data = data.drop(['Unnamed: 0','Rating'], axis = 1)"
   ]
  },
  {
   "cell_type": "code",
   "execution_count": 364,
   "id": "5629a039",
   "metadata": {},
   "outputs": [
    {
     "data": {
      "text/html": [
       "<div>\n",
       "<style scoped>\n",
       "    .dataframe tbody tr th:only-of-type {\n",
       "        vertical-align: middle;\n",
       "    }\n",
       "\n",
       "    .dataframe tbody tr th {\n",
       "        vertical-align: top;\n",
       "    }\n",
       "\n",
       "    .dataframe thead th {\n",
       "        text-align: right;\n",
       "    }\n",
       "</style>\n",
       "<table border=\"1\" class=\"dataframe\">\n",
       "  <thead>\n",
       "    <tr style=\"text-align: right;\">\n",
       "      <th></th>\n",
       "      <th>Title</th>\n",
       "      <th>Theme</th>\n",
       "      <th>Sub Theme</th>\n",
       "      <th>Latitude</th>\n",
       "      <th>Longitude</th>\n",
       "      <th>Green Space</th>\n",
       "      <th>id</th>\n",
       "      <th>Walking</th>\n",
       "      <th>Cardio</th>\n",
       "      <th>Sightseeing</th>\n",
       "    </tr>\n",
       "  </thead>\n",
       "  <tbody>\n",
       "    <tr>\n",
       "      <th>0</th>\n",
       "      <td>Lynch''''s Bridge Mosaic Mural</td>\n",
       "      <td>Mural</td>\n",
       "      <td>Sculpture</td>\n",
       "      <td>144.923939</td>\n",
       "      <td>-37.790205</td>\n",
       "      <td>False</td>\n",
       "      <td>1001</td>\n",
       "      <td>False</td>\n",
       "      <td>False</td>\n",
       "      <td>True</td>\n",
       "    </tr>\n",
       "    <tr>\n",
       "      <th>1</th>\n",
       "      <td>Coles Fountain</td>\n",
       "      <td>Fountain</td>\n",
       "      <td>Memorials</td>\n",
       "      <td>144.973484</td>\n",
       "      <td>-37.809771</td>\n",
       "      <td>False</td>\n",
       "      <td>1002</td>\n",
       "      <td>False</td>\n",
       "      <td>False</td>\n",
       "      <td>True</td>\n",
       "    </tr>\n",
       "    <tr>\n",
       "      <th>2</th>\n",
       "      <td>Beyond the Ocean of Existence</td>\n",
       "      <td>Sculpture</td>\n",
       "      <td>Sculpture</td>\n",
       "      <td>144.967062</td>\n",
       "      <td>-37.816424</td>\n",
       "      <td>False</td>\n",
       "      <td>1003</td>\n",
       "      <td>False</td>\n",
       "      <td>False</td>\n",
       "      <td>True</td>\n",
       "    </tr>\n",
       "    <tr>\n",
       "      <th>3</th>\n",
       "      <td>Vault</td>\n",
       "      <td>Sculpture</td>\n",
       "      <td>Sculpture</td>\n",
       "      <td>144.967733</td>\n",
       "      <td>-37.826071</td>\n",
       "      <td>False</td>\n",
       "      <td>1004</td>\n",
       "      <td>False</td>\n",
       "      <td>False</td>\n",
       "      <td>True</td>\n",
       "    </tr>\n",
       "    <tr>\n",
       "      <th>4</th>\n",
       "      <td>Sir Thomas Blamey Memorial</td>\n",
       "      <td>Memorial</td>\n",
       "      <td>Sculpture</td>\n",
       "      <td>144.972819</td>\n",
       "      <td>-37.826301</td>\n",
       "      <td>False</td>\n",
       "      <td>1005</td>\n",
       "      <td>False</td>\n",
       "      <td>False</td>\n",
       "      <td>True</td>\n",
       "    </tr>\n",
       "  </tbody>\n",
       "</table>\n",
       "</div>"
      ],
      "text/plain": [
       "                            Title      Theme  Sub Theme    Latitude  \\\n",
       "0  Lynch''''s Bridge Mosaic Mural      Mural  Sculpture  144.923939   \n",
       "1                  Coles Fountain   Fountain  Memorials  144.973484   \n",
       "2   Beyond the Ocean of Existence  Sculpture  Sculpture  144.967062   \n",
       "3                           Vault  Sculpture  Sculpture  144.967733   \n",
       "4      Sir Thomas Blamey Memorial   Memorial  Sculpture  144.972819   \n",
       "\n",
       "   Longitude  Green Space    id  Walking  Cardio  Sightseeing  \n",
       "0 -37.790205        False  1001    False   False         True  \n",
       "1 -37.809771        False  1002    False   False         True  \n",
       "2 -37.816424        False  1003    False   False         True  \n",
       "3 -37.826071        False  1004    False   False         True  \n",
       "4 -37.826301        False  1005    False   False         True  "
      ]
     },
     "execution_count": 364,
     "metadata": {},
     "output_type": "execute_result"
    }
   ],
   "source": [
    "data.head()"
   ]
  },
  {
   "cell_type": "code",
   "execution_count": 384,
   "id": "f04aa543",
   "metadata": {},
   "outputs": [],
   "source": [
    "id = [1011, 1074, 1273, 1180, 2002]\n",
    "Rating = [2,2, 1, 1, 2]\n",
    "user = pd.DataFrame()\n",
    "user[\"id\"] = id\n",
    "user[\"Rating\"] = Rating"
   ]
  },
  {
   "cell_type": "code",
   "execution_count": 376,
   "id": "89207fdd",
   "metadata": {},
   "outputs": [],
   "source": [
    "pref = ['Walking', 'Cardio', 'Cycling']\n",
    "if 'Cycling' in pref:\n",
    "    n = 2\n",
    "elif 'Dog' in pref:\n",
    "    n = 1\n",
    "else:\n",
    "    n = 4"
   ]
  },
  {
   "cell_type": "code",
   "execution_count": 377,
   "id": "4bbbd35c",
   "metadata": {},
   "outputs": [
    {
     "data": {
      "text/plain": [
       "dtype('int64')"
      ]
     },
     "execution_count": 377,
     "metadata": {},
     "output_type": "execute_result"
    }
   ],
   "source": [
    "user['Rating'].dtype"
   ]
  },
  {
   "cell_type": "code",
   "execution_count": 378,
   "id": "5dbf0e2c",
   "metadata": {},
   "outputs": [],
   "source": [
    "temp = data\n",
    "merged = pd.merge(temp, user, on = 'id', how = 'left')\n",
    "merged['Rating'] = merged['Rating'].fillna(0)\n",
    "merged = merged.astype({'Rating': 'int64'})"
   ]
  },
  {
   "cell_type": "code",
   "execution_count": 379,
   "id": "ea5d275a",
   "metadata": {},
   "outputs": [],
   "source": [
    "temp1 = pd.DataFrame(columns = [\"Title\", \"Theme\",\"Sub Theme\",\"Latitude\",\"Longitude\",\"Green Space\",\"id\",\"Walking\",\"Cardio\",\"Sightseeing\",\"Rating\"])\n",
    "temp2 = pd.DataFrame(columns = [\"Title\", \"Theme\",\"Sub Theme\",\"Latitude\",\"Longitude\",\"Green Space\",\"id\",\"Walking\",\"Cardio\",\"Sightseeing\",\"Rating\"])\n",
    "temp3 = pd.DataFrame(columns = [\"Title\", \"Theme\",\"Sub Theme\",\"Latitude\",\"Longitude\",\"Green Space\",\"id\",\"Walking\",\"Cardio\",\"Sightseeing\",\"Rating\"])\n",
    "if 'Walking' in pref:\n",
    "    temp1 = merged[merged.Walking != False]\n",
    "if 'Cardio' in pref:\n",
    "    temp2 = merged[merged.Cardio != False]\n",
    "if 'Sightseeing' in pref:\n",
    "    temp3 = merged[merged.Sightseeing != False]"
   ]
  },
  {
   "cell_type": "markdown",
   "id": "348145ec",
   "metadata": {},
   "source": [
    "000\n",
    "001\n",
    "011\n",
    "111\n",
    "010\n",
    "100\n",
    "110\n",
    "101"
   ]
  },
  {
   "cell_type": "code",
   "execution_count": 380,
   "id": "9e470ddd",
   "metadata": {},
   "outputs": [],
   "source": [
    "concat = pd.concat([temp1, temp2, temp3])"
   ]
  },
  {
   "cell_type": "code",
   "execution_count": 381,
   "id": "8763ac4b",
   "metadata": {},
   "outputs": [],
   "source": [
    "if concat.empty:\n",
    "    concat = temp"
   ]
  },
  {
   "cell_type": "code",
   "execution_count": 382,
   "id": "410b6ed3",
   "metadata": {},
   "outputs": [],
   "source": [
    "# from sklearn.model_selection import train_test_split\n",
    "from sklearn.naive_bayes import GaussianNB\n",
    "if len(concat[(concat['Rating'] != 0)]) < 50:\n",
    "    df_elements = concat.sample(n)\n",
    "else:\n",
    "#     len(concat[(concat['Rating'] != 0)]) > 50\n",
    "#     train, test = train_test_split(concat, test_size = 0.2)\n",
    "    concat[\"Theme\"] = concat[\"Theme\"].astype('category')\n",
    "    d1 = dict(enumerate(concat['Theme'].cat.categories))\n",
    "    concat[\"Sub Theme\"] = concat[\"Sub Theme\"].astype('category')\n",
    "    d2 = dict(enumerate(concat['Sub Theme'].cat.categories))\n",
    "    concat[\"Theme\"] = concat[\"Theme\"].cat.codes\n",
    "    concat[\"Sub Theme\"] = concat[\"Sub Theme\"].cat.codes\n",
    "\n",
    "    train = concat.loc[concat['Rating'] != 0]\n",
    "    test = concat.loc[concat['Rating'] == 0]\n",
    "    x_train = train.loc[:, ~train.columns.isin(['Rating', 'Title'])]\n",
    "    y_train = train['Rating']\n",
    "    x_test = test.loc[:, ~test.columns.isin(['Rating', 'Title'])]\n",
    "    y_test = test['Rating']\n",
    "    from sklearn.naive_bayes import GaussianNB\n",
    "    gnb = GaussianNB()\n",
    "    gnb.fit(x_train, y_train)\n",
    "    y_pred = gnb.predict(x_test)\n",
    "    train['Rating'] = y_train\n",
    "    test['Rating'] = y_pred\n",
    "\n",
    "    pred = pd.concat([train, test])\n",
    "    pred = pred.loc[pred['Rating'] == 2]\n",
    "    pred['Theme'] = pred['Theme'].map(d1)\n",
    "    pred['Sub Theme'] = pred['Sub Theme'].map(d2)\n",
    "    df_elements = pred.sample(n)"
   ]
  },
  {
   "cell_type": "code",
   "execution_count": 383,
   "id": "ecbb375d",
   "metadata": {},
   "outputs": [
    {
     "data": {
      "text/html": [
       "<div>\n",
       "<style scoped>\n",
       "    .dataframe tbody tr th:only-of-type {\n",
       "        vertical-align: middle;\n",
       "    }\n",
       "\n",
       "    .dataframe tbody tr th {\n",
       "        vertical-align: top;\n",
       "    }\n",
       "\n",
       "    .dataframe thead th {\n",
       "        text-align: right;\n",
       "    }\n",
       "</style>\n",
       "<table border=\"1\" class=\"dataframe\">\n",
       "  <thead>\n",
       "    <tr style=\"text-align: right;\">\n",
       "      <th></th>\n",
       "      <th>Title</th>\n",
       "      <th>Theme</th>\n",
       "      <th>Sub Theme</th>\n",
       "      <th>Latitude</th>\n",
       "      <th>Longitude</th>\n",
       "      <th>Green Space</th>\n",
       "      <th>id</th>\n",
       "      <th>Walking</th>\n",
       "      <th>Cardio</th>\n",
       "      <th>Sightseeing</th>\n",
       "      <th>Rating</th>\n",
       "    </tr>\n",
       "  </thead>\n",
       "  <tbody>\n",
       "    <tr>\n",
       "      <th>239</th>\n",
       "      <td>Royal Botanic Gardens</td>\n",
       "      <td>Leisure/Recreation</td>\n",
       "      <td>Informal Outdoor Facility (Park/Garden/Reserve)</td>\n",
       "      <td>144.980850</td>\n",
       "      <td>-37.830663</td>\n",
       "      <td>True</td>\n",
       "      <td>1240</td>\n",
       "      <td>True</td>\n",
       "      <td>False</td>\n",
       "      <td>False</td>\n",
       "      <td>0</td>\n",
       "    </tr>\n",
       "    <tr>\n",
       "      <th>247</th>\n",
       "      <td>Fitzroy Gardens</td>\n",
       "      <td>Leisure/Recreation</td>\n",
       "      <td>Informal Outdoor Facility (Park/Garden/Reserve)</td>\n",
       "      <td>144.980456</td>\n",
       "      <td>-37.812962</td>\n",
       "      <td>True</td>\n",
       "      <td>1248</td>\n",
       "      <td>True</td>\n",
       "      <td>False</td>\n",
       "      <td>False</td>\n",
       "      <td>0</td>\n",
       "    </tr>\n",
       "  </tbody>\n",
       "</table>\n",
       "</div>"
      ],
      "text/plain": [
       "                     Title               Theme  \\\n",
       "239  Royal Botanic Gardens  Leisure/Recreation   \n",
       "247        Fitzroy Gardens  Leisure/Recreation   \n",
       "\n",
       "                                           Sub Theme    Latitude  Longitude  \\\n",
       "239  Informal Outdoor Facility (Park/Garden/Reserve)  144.980850 -37.830663   \n",
       "247  Informal Outdoor Facility (Park/Garden/Reserve)  144.980456 -37.812962   \n",
       "\n",
       "    Green Space    id Walking Cardio Sightseeing Rating  \n",
       "239        True  1240    True  False       False      0  \n",
       "247        True  1248    True  False       False      0  "
      ]
     },
     "execution_count": 383,
     "metadata": {},
     "output_type": "execute_result"
    }
   ],
   "source": [
    "df_elements"
   ]
  },
  {
   "cell_type": "code",
   "execution_count": null,
   "id": "51a37047",
   "metadata": {},
   "outputs": [],
   "source": [
    "if 'Cycling' in pref:\n",
    "    bike = pd.read_csv('bicycle.csv')\n",
    "    bike.drop(['Unnamed: 0'], axis = 1)\n",
    "#     bike['Rating'] = 0\n",
    "    from math import radians, cos, sin, asin, sqrt\n",
    "\n",
    "    def haversine(lon1, lat1, lon2, lat2):\n",
    "        \"\"\"\n",
    "        Calculate the great circle distance in kilometers between two points \n",
    "        on the earth (specified in decimal degrees)\n",
    "        \"\"\"\n",
    "        # convert decimal degrees to radians \n",
    "        lon1, lat1, lon2, lat2 = map(radians, [lon1, lat1, lon2, lat2])\n",
    "\n",
    "        # haversine formula \n",
    "        dlon = lon2 - lon1 \n",
    "        dlat = lat2 - lat1 \n",
    "        a = sin(dlat/2)**2 + cos(lat1) * cos(lat2) * sin(dlon/2)**2\n",
    "        c = 2 * asin(sqrt(a)) \n",
    "        r = 6371 # Radius of earth in kilometers. Use 3956 for miles. Determines return value units.\n",
    "        return c * r\n",
    "    temp = bike\n",
    "    bikemerged = pd.merge(temp, user, on = 'id', how = 'left')\n",
    "    merged['Rating'] = merged['Rating'].fillna(0)\n",
    "    bike_high = bike.loc[bike['Rating'] == 2]\n",
    "    selection = bike_high.sample(1)\n",
    "    if selection.empty:\n",
    "        final_bike = bike.sample(1)\n",
    "    \n",
    "    lon, lat = selection['Longitude'], selection['Latitude']\n",
    "    \n",
    "    "
   ]
  },
  {
   "cell_type": "code",
   "execution_count": 385,
   "id": "6bc0b6d0",
   "metadata": {},
   "outputs": [],
   "source": [
    "    bike = pd.read_csv('bicycle.csv')\n"
   ]
  },
  {
   "cell_type": "code",
   "execution_count": 389,
   "id": "8e81dd7b",
   "metadata": {},
   "outputs": [
    {
     "data": {
      "text/html": [
       "<div>\n",
       "<style scoped>\n",
       "    .dataframe tbody tr th:only-of-type {\n",
       "        vertical-align: middle;\n",
       "    }\n",
       "\n",
       "    .dataframe tbody tr th {\n",
       "        vertical-align: top;\n",
       "    }\n",
       "\n",
       "    .dataframe thead th {\n",
       "        text-align: right;\n",
       "    }\n",
       "</style>\n",
       "<table border=\"1\" class=\"dataframe\">\n",
       "  <thead>\n",
       "    <tr style=\"text-align: right;\">\n",
       "      <th></th>\n",
       "      <th>Unnamed: 0</th>\n",
       "      <th>Theme</th>\n",
       "      <th>Sub Theme</th>\n",
       "      <th>Title</th>\n",
       "      <th>Latitude</th>\n",
       "      <th>Longitude</th>\n",
       "      <th>id</th>\n",
       "    </tr>\n",
       "  </thead>\n",
       "  <tbody>\n",
       "    <tr>\n",
       "      <th>0</th>\n",
       "      <td>0</td>\n",
       "      <td>Both Directions</td>\n",
       "      <td>On-Road Bike Lane</td>\n",
       "      <td>On-Road Bike Lane</td>\n",
       "      <td>144.942712</td>\n",
       "      <td>-37.807355</td>\n",
       "      <td>2001</td>\n",
       "    </tr>\n",
       "    <tr>\n",
       "      <th>1</th>\n",
       "      <td>1</td>\n",
       "      <td>Both Directions</td>\n",
       "      <td>Off-Road Bike Route</td>\n",
       "      <td>Off-Road Bike Route</td>\n",
       "      <td>144.954503</td>\n",
       "      <td>-37.783111</td>\n",
       "      <td>2002</td>\n",
       "    </tr>\n",
       "    <tr>\n",
       "      <th>2</th>\n",
       "      <td>2</td>\n",
       "      <td>Both Directions</td>\n",
       "      <td>Off-Road Bike Route</td>\n",
       "      <td>Off-Road Bike Route</td>\n",
       "      <td>144.934431</td>\n",
       "      <td>-37.816071</td>\n",
       "      <td>2003</td>\n",
       "    </tr>\n",
       "    <tr>\n",
       "      <th>3</th>\n",
       "      <td>3</td>\n",
       "      <td>Both Directions</td>\n",
       "      <td>Off-Road Bike Route</td>\n",
       "      <td>Off-Road Bike Route</td>\n",
       "      <td>144.951780</td>\n",
       "      <td>-37.790232</td>\n",
       "      <td>2004</td>\n",
       "    </tr>\n",
       "    <tr>\n",
       "      <th>4</th>\n",
       "      <td>4</td>\n",
       "      <td>Both Directions</td>\n",
       "      <td>Off-Road Bike Route</td>\n",
       "      <td>Off-Road Bike Route - Capital City Trail</td>\n",
       "      <td>144.951740</td>\n",
       "      <td>-37.823203</td>\n",
       "      <td>2005</td>\n",
       "    </tr>\n",
       "  </tbody>\n",
       "</table>\n",
       "</div>"
      ],
      "text/plain": [
       "   Unnamed: 0            Theme            Sub Theme  \\\n",
       "0           0  Both Directions    On-Road Bike Lane   \n",
       "1           1  Both Directions  Off-Road Bike Route   \n",
       "2           2  Both Directions  Off-Road Bike Route   \n",
       "3           3  Both Directions  Off-Road Bike Route   \n",
       "4           4  Both Directions  Off-Road Bike Route   \n",
       "\n",
       "                                      Title    Latitude  Longitude    id  \n",
       "0                         On-Road Bike Lane  144.942712 -37.807355  2001  \n",
       "1                       Off-Road Bike Route  144.954503 -37.783111  2002  \n",
       "2                       Off-Road Bike Route  144.934431 -37.816071  2003  \n",
       "3                       Off-Road Bike Route  144.951780 -37.790232  2004  \n",
       "4  Off-Road Bike Route - Capital City Trail  144.951740 -37.823203  2005  "
      ]
     },
     "execution_count": 389,
     "metadata": {},
     "output_type": "execute_result"
    }
   ],
   "source": [
    "bike.head()"
   ]
  },
  {
   "cell_type": "code",
   "execution_count": null,
   "id": "630f6c80",
   "metadata": {},
   "outputs": [],
   "source": []
  },
  {
   "cell_type": "code",
   "execution_count": 200,
   "id": "4584c04a",
   "metadata": {},
   "outputs": [],
   "source": [
    "### TESTING DATASET\n",
    "from random import randint\n",
    "concat[\"Rating\"] = concat.apply(lambda x: randint(0,2), axis=1)\n",
    "concat = concat.drop(['Title'], axis = 1)\n",
    "concat[\"Theme\"] = concat[\"Theme\"].astype('category')\n",
    "concat[\"Sub Theme\"] = concat[\"Sub Theme\"].astype('category')\n",
    "concat[\"Theme\"] = concat[\"Theme\"].cat.codes\n",
    "concat[\"Sub Theme\"] = concat[\"Sub Theme\"].cat.codes\n",
    "train = concat.loc[concat['Rating'] != 0]\n",
    "test = concat.loc[concat['Rating'] == 0]\n",
    "x_train = train.loc[:, train.columns != 'Rating']\n",
    "y_train = train['Rating']\n",
    "x_test = test.loc[:, test.columns != 'Rating']\n",
    "y_test = test['Rating']"
   ]
  },
  {
   "cell_type": "code",
   "execution_count": 201,
   "id": "59d40520",
   "metadata": {},
   "outputs": [
    {
     "data": {
      "text/plain": [
       "GaussianNB()"
      ]
     },
     "execution_count": 201,
     "metadata": {},
     "output_type": "execute_result"
    }
   ],
   "source": [
    "from sklearn.naive_bayes import GaussianNB\n",
    "gnb = GaussianNB()\n",
    "gnb.fit(x_train, y_train)"
   ]
  },
  {
   "cell_type": "code",
   "execution_count": 202,
   "id": "3ac4b653",
   "metadata": {},
   "outputs": [],
   "source": [
    "y_pred = gnb.predict(x_test)"
   ]
  },
  {
   "cell_type": "code",
   "execution_count": 203,
   "id": "93df7789",
   "metadata": {},
   "outputs": [
    {
     "data": {
      "text/plain": [
       "array([1, 2, 1, 1, 1, 2, 2, 1, 1, 2, 1, 1, 2, 2, 2, 2, 2, 2, 2, 2, 2],\n",
       "      dtype=int64)"
      ]
     },
     "execution_count": 203,
     "metadata": {},
     "output_type": "execute_result"
    }
   ],
   "source": [
    "y_pred"
   ]
  },
  {
   "cell_type": "code",
   "execution_count": 351,
   "id": "9c66ee1b",
   "metadata": {},
   "outputs": [],
   "source": [
    "from sklearn.model_selection import train_test_split\n",
    "concat[\"Rating\"] = concat.apply(lambda x: randint(0,2), axis=1)\n",
    "\n",
    "concat[\"Theme\"] = concat[\"Theme\"].astype('category')\n",
    "d1 = dict(enumerate(concat['Theme'].cat.categories))\n",
    "concat[\"Sub Theme\"] = concat[\"Sub Theme\"].astype('category')\n",
    "d2 = dict(enumerate(concat['Sub Theme'].cat.categories))\n",
    "\n",
    "concat[\"Theme\"] = concat[\"Theme\"].cat.codes\n",
    "concat[\"Sub Theme\"] = concat[\"Sub Theme\"].cat.codes\n",
    "train = concat.loc[concat['Rating'] != 0]\n",
    "train, test = train_test_split(train, test_size = 0.3, random_state = 1)\n",
    "x_train = train.loc[:, ~train.columns.isin(['Rating', 'Title'])]\n",
    "y_train = train['Rating']\n",
    "x_test = test.loc[:, ~test.columns.isin(['Rating', 'Title'])]\n",
    "y_test = test['Rating']"
   ]
  },
  {
   "cell_type": "code",
   "execution_count": 352,
   "id": "777f87eb",
   "metadata": {},
   "outputs": [
    {
     "data": {
      "text/plain": [
       "GaussianNB()"
      ]
     },
     "execution_count": 352,
     "metadata": {},
     "output_type": "execute_result"
    }
   ],
   "source": [
    "from sklearn.naive_bayes import GaussianNB\n",
    "gnb = GaussianNB()\n",
    "gnb.fit(x_train, y_train)"
   ]
  },
  {
   "cell_type": "code",
   "execution_count": 353,
   "id": "08858fa5",
   "metadata": {},
   "outputs": [],
   "source": [
    "y_pred = gnb.predict(x_test)"
   ]
  },
  {
   "cell_type": "code",
   "execution_count": 354,
   "id": "e0150f4d",
   "metadata": {},
   "outputs": [
    {
     "name": "stdout",
     "output_type": "stream",
     "text": [
      "Gaussian Naive Bayes model accuracy(in %): 30.0\n"
     ]
    }
   ],
   "source": [
    "from sklearn import metrics\n",
    "print(\"Gaussian Naive Bayes model accuracy(in %):\", metrics.accuracy_score(y_test, y_pred)*100)"
   ]
  },
  {
   "cell_type": "code",
   "execution_count": 355,
   "id": "5af597c3",
   "metadata": {},
   "outputs": [],
   "source": [
    "train['Rating'] = y_train\n",
    "test['Rating'] = y_pred\n",
    "pred = pd.concat([train, test])\n",
    "pred = pred.loc[pred['Rating'] == 2]\n",
    "pred['Theme'] = pred['Theme'].map(d1)\n",
    "pred['Sub Theme'] = pred['Sub Theme'].map(d2)\n",
    "df_elements = pred.sample(n)"
   ]
  },
  {
   "cell_type": "code",
   "execution_count": 356,
   "id": "78c701f0",
   "metadata": {},
   "outputs": [
    {
     "data": {
      "text/html": [
       "<div>\n",
       "<style scoped>\n",
       "    .dataframe tbody tr th:only-of-type {\n",
       "        vertical-align: middle;\n",
       "    }\n",
       "\n",
       "    .dataframe tbody tr th {\n",
       "        vertical-align: top;\n",
       "    }\n",
       "\n",
       "    .dataframe thead th {\n",
       "        text-align: right;\n",
       "    }\n",
       "</style>\n",
       "<table border=\"1\" class=\"dataframe\">\n",
       "  <thead>\n",
       "    <tr style=\"text-align: right;\">\n",
       "      <th></th>\n",
       "      <th>Title</th>\n",
       "      <th>Theme</th>\n",
       "      <th>Sub Theme</th>\n",
       "      <th>Latitude</th>\n",
       "      <th>Longitude</th>\n",
       "      <th>Green Space</th>\n",
       "      <th>id</th>\n",
       "      <th>Walking</th>\n",
       "      <th>Cardio</th>\n",
       "      <th>Sightseeing</th>\n",
       "      <th>Rating</th>\n",
       "    </tr>\n",
       "  </thead>\n",
       "  <tbody>\n",
       "    <tr>\n",
       "      <th>230</th>\n",
       "      <td>Artplay</td>\n",
       "      <td>Leisure/Recreation</td>\n",
       "      <td>Indoor Recreation Facility</td>\n",
       "      <td>144.971543</td>\n",
       "      <td>-37.818420</td>\n",
       "      <td>True</td>\n",
       "      <td>1231</td>\n",
       "      <td>False</td>\n",
       "      <td>True</td>\n",
       "      <td>False</td>\n",
       "      <td>2</td>\n",
       "    </tr>\n",
       "    <tr>\n",
       "      <th>221</th>\n",
       "      <td>Newmarket Reserve</td>\n",
       "      <td>Leisure/Recreation</td>\n",
       "      <td>Informal Outdoor Facility (Park/Garden/Reserve)</td>\n",
       "      <td>144.922972</td>\n",
       "      <td>-37.787847</td>\n",
       "      <td>True</td>\n",
       "      <td>1222</td>\n",
       "      <td>True</td>\n",
       "      <td>False</td>\n",
       "      <td>False</td>\n",
       "      <td>2</td>\n",
       "    </tr>\n",
       "    <tr>\n",
       "      <th>194</th>\n",
       "      <td>Carlton Gardens South</td>\n",
       "      <td>Leisure/Recreation</td>\n",
       "      <td>Informal Outdoor Facility (Park/Garden/Reserve)</td>\n",
       "      <td>144.971266</td>\n",
       "      <td>-37.806068</td>\n",
       "      <td>True</td>\n",
       "      <td>1195</td>\n",
       "      <td>True</td>\n",
       "      <td>False</td>\n",
       "      <td>False</td>\n",
       "      <td>2</td>\n",
       "    </tr>\n",
       "    <tr>\n",
       "      <th>263</th>\n",
       "      <td>City Baths</td>\n",
       "      <td>Leisure/Recreation</td>\n",
       "      <td>Major Sports &amp; Recreation Facility</td>\n",
       "      <td>144.963190</td>\n",
       "      <td>-37.807159</td>\n",
       "      <td>True</td>\n",
       "      <td>1264</td>\n",
       "      <td>False</td>\n",
       "      <td>True</td>\n",
       "      <td>False</td>\n",
       "      <td>2</td>\n",
       "    </tr>\n",
       "  </tbody>\n",
       "</table>\n",
       "</div>"
      ],
      "text/plain": [
       "                     Title               Theme  \\\n",
       "230                Artplay  Leisure/Recreation   \n",
       "221      Newmarket Reserve  Leisure/Recreation   \n",
       "194  Carlton Gardens South  Leisure/Recreation   \n",
       "263             City Baths  Leisure/Recreation   \n",
       "\n",
       "                                           Sub Theme    Latitude  Longitude  \\\n",
       "230                       Indoor Recreation Facility  144.971543 -37.818420   \n",
       "221  Informal Outdoor Facility (Park/Garden/Reserve)  144.922972 -37.787847   \n",
       "194  Informal Outdoor Facility (Park/Garden/Reserve)  144.971266 -37.806068   \n",
       "263               Major Sports & Recreation Facility  144.963190 -37.807159   \n",
       "\n",
       "    Green Space    id Walking Cardio Sightseeing  Rating  \n",
       "230        True  1231   False   True       False       2  \n",
       "221        True  1222    True  False       False       2  \n",
       "194        True  1195    True  False       False       2  \n",
       "263        True  1264   False   True       False       2  "
      ]
     },
     "execution_count": 356,
     "metadata": {},
     "output_type": "execute_result"
    }
   ],
   "source": [
    "df_elements"
   ]
  },
  {
   "cell_type": "code",
   "execution_count": 357,
   "id": "7d9afac0",
   "metadata": {},
   "outputs": [
    {
     "data": {
      "text/plain": [
       "{0: 'Leisure/Recreation'}"
      ]
     },
     "execution_count": 357,
     "metadata": {},
     "output_type": "execute_result"
    }
   ],
   "source": [
    "d1"
   ]
  },
  {
   "cell_type": "code",
   "execution_count": null,
   "id": "64d7f9cf",
   "metadata": {},
   "outputs": [],
   "source": []
  }
 ],
 "metadata": {
  "kernelspec": {
   "display_name": "Python 3 (ipykernel)",
   "language": "python",
   "name": "python3"
  },
  "language_info": {
   "codemirror_mode": {
    "name": "ipython",
    "version": 3
   },
   "file_extension": ".py",
   "mimetype": "text/x-python",
   "name": "python",
   "nbconvert_exporter": "python",
   "pygments_lexer": "ipython3",
   "version": "3.9.7"
  }
 },
 "nbformat": 4,
 "nbformat_minor": 5
}
