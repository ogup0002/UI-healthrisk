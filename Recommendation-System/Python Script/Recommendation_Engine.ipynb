{
 "cells": [
  {
   "cell_type": "code",
   "execution_count": 9,
   "id": "b7fd5c2a",
   "metadata": {},
   "outputs": [],
   "source": [
    "import pandas as pd\n",
    "import requests"
   ]
  },
  {
   "cell_type": "code",
   "execution_count": 189,
   "id": "e5f7cdc9",
   "metadata": {},
   "outputs": [],
   "source": [
    "#!pip install requests"
   ]
  },
  {
   "cell_type": "code",
   "execution_count": 491,
   "id": "a9e2b669",
   "metadata": {},
   "outputs": [],
   "source": [
    "#url = \"https://api.openweathermap.org/data/3.0/onecall?lat=-37.840935&lon=144.946457&exclude=minutely&appid=c92389d6904463e3cb24208905434fd9\"\n",
    "url = \"https://api.openweathermap.org/data/2.5/weather?lat=-37.840935&lon=144.946457&appid=c92389d6904463e3cb24208905434fd9\"\n",
    "response = requests.get(url)"
   ]
  },
  {
   "cell_type": "code",
   "execution_count": 571,
   "id": "058e58f7",
   "metadata": {},
   "outputs": [],
   "source": [
    "json = response.json()"
   ]
  },
  {
   "cell_type": "code",
   "execution_count": 572,
   "id": "d419a01c",
   "metadata": {},
   "outputs": [],
   "source": [
    "weather = json['weather'][0]['main']"
   ]
  },
  {
   "cell_type": "code",
   "execution_count": 635,
   "id": "109a86fe",
   "metadata": {},
   "outputs": [],
   "source": [
    "weather = 'Rain'"
   ]
  },
  {
   "cell_type": "code",
   "execution_count": 636,
   "id": "c01657bb",
   "metadata": {},
   "outputs": [],
   "source": [
    "data = pd.read_csv('outdoor.csv')"
   ]
  },
  {
   "cell_type": "code",
   "execution_count": 637,
   "id": "7e4d78b1",
   "metadata": {},
   "outputs": [],
   "source": [
    "data = data.drop(['Unnamed: 0','Rating'], axis = 1)"
   ]
  },
  {
   "cell_type": "code",
   "execution_count": 638,
   "id": "c4cf1fdd",
   "metadata": {},
   "outputs": [
    {
     "data": {
      "text/html": [
       "<div>\n",
       "<style scoped>\n",
       "    .dataframe tbody tr th:only-of-type {\n",
       "        vertical-align: middle;\n",
       "    }\n",
       "\n",
       "    .dataframe tbody tr th {\n",
       "        vertical-align: top;\n",
       "    }\n",
       "\n",
       "    .dataframe thead th {\n",
       "        text-align: right;\n",
       "    }\n",
       "</style>\n",
       "<table border=\"1\" class=\"dataframe\">\n",
       "  <thead>\n",
       "    <tr style=\"text-align: right;\">\n",
       "      <th></th>\n",
       "      <th>Title</th>\n",
       "      <th>Theme</th>\n",
       "      <th>Sub Theme</th>\n",
       "      <th>Latitude</th>\n",
       "      <th>Longitude</th>\n",
       "      <th>Green Space</th>\n",
       "      <th>id</th>\n",
       "      <th>Walking</th>\n",
       "      <th>Cardio</th>\n",
       "      <th>Sightseeing</th>\n",
       "    </tr>\n",
       "  </thead>\n",
       "  <tbody>\n",
       "    <tr>\n",
       "      <th>0</th>\n",
       "      <td>Lynch''''s Bridge Mosaic Mural</td>\n",
       "      <td>Mural</td>\n",
       "      <td>Sculpture</td>\n",
       "      <td>144.923939</td>\n",
       "      <td>-37.790205</td>\n",
       "      <td>False</td>\n",
       "      <td>1001</td>\n",
       "      <td>False</td>\n",
       "      <td>False</td>\n",
       "      <td>True</td>\n",
       "    </tr>\n",
       "    <tr>\n",
       "      <th>1</th>\n",
       "      <td>Coles Fountain</td>\n",
       "      <td>Fountain</td>\n",
       "      <td>Memorials</td>\n",
       "      <td>144.973484</td>\n",
       "      <td>-37.809771</td>\n",
       "      <td>False</td>\n",
       "      <td>1002</td>\n",
       "      <td>False</td>\n",
       "      <td>False</td>\n",
       "      <td>True</td>\n",
       "    </tr>\n",
       "    <tr>\n",
       "      <th>2</th>\n",
       "      <td>Beyond the Ocean of Existence</td>\n",
       "      <td>Sculpture</td>\n",
       "      <td>Sculpture</td>\n",
       "      <td>144.967062</td>\n",
       "      <td>-37.816424</td>\n",
       "      <td>False</td>\n",
       "      <td>1003</td>\n",
       "      <td>False</td>\n",
       "      <td>False</td>\n",
       "      <td>True</td>\n",
       "    </tr>\n",
       "    <tr>\n",
       "      <th>3</th>\n",
       "      <td>Vault</td>\n",
       "      <td>Sculpture</td>\n",
       "      <td>Sculpture</td>\n",
       "      <td>144.967733</td>\n",
       "      <td>-37.826071</td>\n",
       "      <td>False</td>\n",
       "      <td>1004</td>\n",
       "      <td>False</td>\n",
       "      <td>False</td>\n",
       "      <td>True</td>\n",
       "    </tr>\n",
       "    <tr>\n",
       "      <th>4</th>\n",
       "      <td>Sir Thomas Blamey Memorial</td>\n",
       "      <td>Memorial</td>\n",
       "      <td>Sculpture</td>\n",
       "      <td>144.972819</td>\n",
       "      <td>-37.826301</td>\n",
       "      <td>False</td>\n",
       "      <td>1005</td>\n",
       "      <td>False</td>\n",
       "      <td>False</td>\n",
       "      <td>True</td>\n",
       "    </tr>\n",
       "  </tbody>\n",
       "</table>\n",
       "</div>"
      ],
      "text/plain": [
       "                            Title      Theme  Sub Theme    Latitude  \\\n",
       "0  Lynch''''s Bridge Mosaic Mural      Mural  Sculpture  144.923939   \n",
       "1                  Coles Fountain   Fountain  Memorials  144.973484   \n",
       "2   Beyond the Ocean of Existence  Sculpture  Sculpture  144.967062   \n",
       "3                           Vault  Sculpture  Sculpture  144.967733   \n",
       "4      Sir Thomas Blamey Memorial   Memorial  Sculpture  144.972819   \n",
       "\n",
       "   Longitude  Green Space    id  Walking  Cardio  Sightseeing  \n",
       "0 -37.790205        False  1001    False   False         True  \n",
       "1 -37.809771        False  1002    False   False         True  \n",
       "2 -37.816424        False  1003    False   False         True  \n",
       "3 -37.826071        False  1004    False   False         True  \n",
       "4 -37.826301        False  1005    False   False         True  "
      ]
     },
     "execution_count": 638,
     "metadata": {},
     "output_type": "execute_result"
    }
   ],
   "source": [
    "data.head()"
   ]
  },
  {
   "cell_type": "code",
   "execution_count": 639,
   "id": "1da104a7",
   "metadata": {},
   "outputs": [],
   "source": [
    "id = [1011, 1074, 1273, 1180, 2002]\n",
    "Rating = [2,2, 1, 1, 2]\n",
    "user = pd.DataFrame()\n",
    "user[\"id\"] = id\n",
    "user[\"Rating\"] = Rating"
   ]
  },
  {
   "cell_type": "code",
   "execution_count": 640,
   "id": "8a45a4c5",
   "metadata": {},
   "outputs": [],
   "source": [
    "pref = ['Walking', 'Cardio', 'Cycling', 'Dog']\n",
    "if 'Cycling' in pref:\n",
    "    if weather == 'Rain':\n",
    "        n = 2\n",
    "    else:\n",
    "        n = 3\n",
    "elif 'Dog' in pref:\n",
    "    if weather == 'Rain':\n",
    "        n = 3\n",
    "    else: \n",
    "        n = 2\n",
    "else:\n",
    "    if weather == 'Rain':\n",
    "        n = 2\n",
    "    else:\n",
    "        n = 3"
   ]
  },
  {
   "cell_type": "code",
   "execution_count": 641,
   "id": "3c141f45",
   "metadata": {},
   "outputs": [
    {
     "data": {
      "text/plain": [
       "dtype('int64')"
      ]
     },
     "execution_count": 641,
     "metadata": {},
     "output_type": "execute_result"
    }
   ],
   "source": [
    "user['Rating'].dtype"
   ]
  },
  {
   "cell_type": "code",
   "execution_count": 642,
   "id": "7442a7d5",
   "metadata": {},
   "outputs": [],
   "source": [
    "temp = data\n",
    "merged = pd.merge(temp, user, on = 'id', how = 'left')\n",
    "merged['Rating'] = merged['Rating'].fillna(0)\n",
    "merged = merged.astype({'Rating': 'int64'})"
   ]
  },
  {
   "cell_type": "code",
   "execution_count": 643,
   "id": "24b9decc",
   "metadata": {},
   "outputs": [],
   "source": [
    "temp1 = pd.DataFrame(columns = [\"Title\", \"Theme\",\"Sub Theme\",\"Latitude\",\"Longitude\",\"Green Space\",\"id\",\"Walking\",\"Cardio\",\"Sightseeing\",\"Rating\"])\n",
    "temp2 = pd.DataFrame(columns = [\"Title\", \"Theme\",\"Sub Theme\",\"Latitude\",\"Longitude\",\"Green Space\",\"id\",\"Walking\",\"Cardio\",\"Sightseeing\",\"Rating\"])\n",
    "temp3 = pd.DataFrame(columns = [\"Title\", \"Theme\",\"Sub Theme\",\"Latitude\",\"Longitude\",\"Green Space\",\"id\",\"Walking\",\"Cardio\",\"Sightseeing\",\"Rating\"])\n",
    "if 'Walking' in pref:\n",
    "    temp1 = merged[merged.Walking != False]\n",
    "if 'Cardio' in pref:\n",
    "    temp2 = merged[merged.Cardio != False]\n",
    "if 'Sightseeing' in pref:\n",
    "    temp3 = merged[merged.Sightseeing != False]"
   ]
  },
  {
   "cell_type": "markdown",
   "id": "57ef48bf",
   "metadata": {},
   "source": [
    "000\n",
    "001\n",
    "011\n",
    "111\n",
    "010\n",
    "100\n",
    "110\n",
    "101"
   ]
  },
  {
   "cell_type": "code",
   "execution_count": 644,
   "id": "4f705bca",
   "metadata": {},
   "outputs": [],
   "source": [
    "concat = pd.concat([temp1, temp2, temp3])"
   ]
  },
  {
   "cell_type": "code",
   "execution_count": 645,
   "id": "86a5a63a",
   "metadata": {},
   "outputs": [],
   "source": [
    "if concat.empty:\n",
    "    concat = temp"
   ]
  },
  {
   "cell_type": "code",
   "execution_count": 646,
   "id": "6b4a5597",
   "metadata": {},
   "outputs": [],
   "source": [
    "# from sklearn.model_selection import train_test_split\n",
    "from sklearn.naive_bayes import GaussianNB\n",
    "if len(concat[(concat['Rating'] != 0)]) < 50:\n",
    "    df_elements = concat.sample(n)\n",
    "else:\n",
    "#     len(concat[(concat['Rating'] != 0)]) > 50\n",
    "#     train, test = train_test_split(concat, test_size = 0.2)\n",
    "    concat[\"Theme\"] = concat[\"Theme\"].astype('category')\n",
    "    d1 = dict(enumerate(concat['Theme'].cat.categories))\n",
    "    concat[\"Sub Theme\"] = concat[\"Sub Theme\"].astype('category')\n",
    "    d2 = dict(enumerate(concat['Sub Theme'].cat.categories))\n",
    "    concat[\"Theme\"] = concat[\"Theme\"].cat.codes\n",
    "    concat[\"Sub Theme\"] = concat[\"Sub Theme\"].cat.codes\n",
    "\n",
    "    train = concat.loc[concat['Rating'] != 0]\n",
    "    test = concat.loc[concat['Rating'] == 0]\n",
    "    x_train = train.loc[:, ~train.columns.isin(['Rating', 'Title'])]\n",
    "    y_train = train['Rating']\n",
    "    x_test = test.loc[:, ~test.columns.isin(['Rating', 'Title'])]\n",
    "    y_test = test['Rating']\n",
    "    from sklearn.naive_bayes import GaussianNB\n",
    "    gnb = GaussianNB()\n",
    "    gnb.fit(x_train, y_train)\n",
    "    y_pred = gnb.predict(x_test)\n",
    "    train['Rating'] = y_train\n",
    "    test['Rating'] = y_pred\n",
    "\n",
    "    pred = pd.concat([train, test])\n",
    "    pred = pred.loc[pred['Rating'] == 2]\n",
    "    pred['Theme'] = pred['Theme'].map(d1)\n",
    "    pred['Sub Theme'] = pred['Sub Theme'].map(d2)\n",
    "    df_elements = pred.sample(n)\n",
    "df_elements = df_elements.drop(['Walking', 'Cardio', 'Sightseeing', 'Green Space'], axis = 1)"
   ]
  },
  {
   "cell_type": "code",
   "execution_count": 647,
   "id": "dbed1091",
   "metadata": {},
   "outputs": [
    {
     "data": {
      "text/html": [
       "<div>\n",
       "<style scoped>\n",
       "    .dataframe tbody tr th:only-of-type {\n",
       "        vertical-align: middle;\n",
       "    }\n",
       "\n",
       "    .dataframe tbody tr th {\n",
       "        vertical-align: top;\n",
       "    }\n",
       "\n",
       "    .dataframe thead th {\n",
       "        text-align: right;\n",
       "    }\n",
       "</style>\n",
       "<table border=\"1\" class=\"dataframe\">\n",
       "  <thead>\n",
       "    <tr style=\"text-align: right;\">\n",
       "      <th></th>\n",
       "      <th>Title</th>\n",
       "      <th>Theme</th>\n",
       "      <th>Sub Theme</th>\n",
       "      <th>Latitude</th>\n",
       "      <th>Longitude</th>\n",
       "      <th>id</th>\n",
       "      <th>Rating</th>\n",
       "    </tr>\n",
       "  </thead>\n",
       "  <tbody>\n",
       "    <tr>\n",
       "      <th>243</th>\n",
       "      <td>Darling Square</td>\n",
       "      <td>Leisure/Recreation</td>\n",
       "      <td>Informal Outdoor Facility (Park/Garden/Reserve)</td>\n",
       "      <td>144.989063</td>\n",
       "      <td>-37.812992</td>\n",
       "      <td>1244</td>\n",
       "      <td>0</td>\n",
       "    </tr>\n",
       "    <tr>\n",
       "      <th>198</th>\n",
       "      <td>Carlton Football Club</td>\n",
       "      <td>Leisure/Recreation</td>\n",
       "      <td>Major Sports &amp; Recreation Facility</td>\n",
       "      <td>144.961968</td>\n",
       "      <td>-37.784086</td>\n",
       "      <td>1199</td>\n",
       "      <td>0</td>\n",
       "    </tr>\n",
       "  </tbody>\n",
       "</table>\n",
       "</div>"
      ],
      "text/plain": [
       "                     Title               Theme  \\\n",
       "243         Darling Square  Leisure/Recreation   \n",
       "198  Carlton Football Club  Leisure/Recreation   \n",
       "\n",
       "                                           Sub Theme    Latitude  Longitude  \\\n",
       "243  Informal Outdoor Facility (Park/Garden/Reserve)  144.989063 -37.812992   \n",
       "198               Major Sports & Recreation Facility  144.961968 -37.784086   \n",
       "\n",
       "       id Rating  \n",
       "243  1244      0  \n",
       "198  1199      0  "
      ]
     },
     "execution_count": 647,
     "metadata": {},
     "output_type": "execute_result"
    }
   ],
   "source": [
    "df_elements"
   ]
  },
  {
   "cell_type": "code",
   "execution_count": 648,
   "id": "d6222a4b",
   "metadata": {},
   "outputs": [],
   "source": [
    "from math import radians, cos, sin, asin, sqrt\n",
    "\n",
    "def haversine(lon1, lat1, lon2, lat2):\n",
    "    \"\"\"\n",
    "    Calculate the great circle distance in kilometers between two points \n",
    "    on the earth (specified in decimal degrees)\n",
    "    \"\"\"\n",
    "    # convert decimal degrees to radians \n",
    "    lon1, lat1, lon2, lat2 = map(radians, [lon1, lat1, lon2, lat2])\n",
    "\n",
    "        # haversine formula \n",
    "    dlon = lon2 - lon1 \n",
    "    dlat = lat2 - lat1 \n",
    "    a = sin(dlat/2)**2 + cos(lat1) * cos(lat2) * sin(dlon/2)**2\n",
    "    c = 2 * asin(sqrt(a)) \n",
    "    r = 6371 # Radius of earth in kilometers. Use 3956 for miles. Determines return value units.\n",
    "    return c * r   "
   ]
  },
  {
   "cell_type": "code",
   "execution_count": 649,
   "id": "2f39ae4e",
   "metadata": {},
   "outputs": [],
   "source": [
    "if 'Cycling' in pref:\n",
    "    bike = pd.read_csv('bicycle.csv')\n",
    "    bike.drop(['Unnamed: 0'], axis = 1)\n",
    "#     bike['Rating'] = 0\n",
    "    \n",
    "    temp = bike\n",
    "    bikemerged = pd.merge(temp, user, on = 'id', how = 'left')\n",
    "    bikemerged['Rating'] = bikemerged['Rating'].fillna(0)\n",
    "    bike_high = bikemerged.loc[bikemerged['Rating'] == 2]\n",
    "    selection = bike_high.sample(1)\n",
    "    if selection.empty:\n",
    "        record = bike.sample(1)\n",
    "    else:\n",
    "        lon, lat = selection['Longitude'], selection['Latitude'] \n",
    "        bikemerged['haversine_calc'] = [haversine(lon,lat, bikemerged['Longitude'][i], bikemerged['Latitude'][i])for i in range(len(bike))]\n",
    "        bikemerged = bikemerged[bikemerged[\"haversine_calc\"]>0]\n",
    "        bikemerged = bikemerged.drop(['Unnamed: 0'], axis = 1)\n",
    "        record = bikemerged.loc[bikemerged.haversine_calc == bikemerged.haversine_calc.min()]\n",
    "        record = record.drop(['haversine_calc'], axis = 1)"
   ]
  },
  {
   "cell_type": "code",
   "execution_count": 650,
   "id": "86119281",
   "metadata": {},
   "outputs": [],
   "source": [
    "output = pd.concat([df_elements, record])"
   ]
  },
  {
   "cell_type": "code",
   "execution_count": 651,
   "id": "7897ffcc",
   "metadata": {},
   "outputs": [],
   "source": [
    "indoor = pd.DataFrame()\n",
    "Title = ['Yoga', 'Skipping a rope', 'Body Weight Training', 'Stretching', 'Taking the stairs', 'Dancing', 'Hula Hoop', 'Pilates']\n",
    "Theme = ['Low Intensity', 'High Intensity', 'Low Intensity', 'Low Intensity', 'High Intensity', 'High Intensity', 'High Intensity', 'Low Intensity']\n",
    "SubTheme = ['Meditation', 'Endurance Training', 'Muscle Building', 'Muscle Building', 'Endurance Training', 'Endurance Training', 'Endurance Training', 'Meditation']\n",
    "id = [3001, 3002, 3003, 3004, 3005, 3006, 3007, 3008]\n",
    "indoor['Title'] = Title\n",
    "indoor['Theme'] = Theme\n",
    "indoor['Sub Theme'] = SubTheme\n",
    "indoor['id'] = id"
   ]
  },
  {
   "cell_type": "code",
   "execution_count": 652,
   "id": "cc5e98cd",
   "metadata": {},
   "outputs": [
    {
     "data": {
      "text/html": [
       "<div>\n",
       "<style scoped>\n",
       "    .dataframe tbody tr th:only-of-type {\n",
       "        vertical-align: middle;\n",
       "    }\n",
       "\n",
       "    .dataframe tbody tr th {\n",
       "        vertical-align: top;\n",
       "    }\n",
       "\n",
       "    .dataframe thead th {\n",
       "        text-align: right;\n",
       "    }\n",
       "</style>\n",
       "<table border=\"1\" class=\"dataframe\">\n",
       "  <thead>\n",
       "    <tr style=\"text-align: right;\">\n",
       "      <th></th>\n",
       "      <th>Title</th>\n",
       "      <th>Theme</th>\n",
       "      <th>Sub Theme</th>\n",
       "      <th>id</th>\n",
       "    </tr>\n",
       "  </thead>\n",
       "  <tbody>\n",
       "    <tr>\n",
       "      <th>0</th>\n",
       "      <td>Yoga</td>\n",
       "      <td>Low Intensity</td>\n",
       "      <td>Meditation</td>\n",
       "      <td>3001</td>\n",
       "    </tr>\n",
       "    <tr>\n",
       "      <th>1</th>\n",
       "      <td>Skipping a rope</td>\n",
       "      <td>High Intensity</td>\n",
       "      <td>Endurance Training</td>\n",
       "      <td>3002</td>\n",
       "    </tr>\n",
       "    <tr>\n",
       "      <th>2</th>\n",
       "      <td>Body Weight Training</td>\n",
       "      <td>Low Intensity</td>\n",
       "      <td>Muscle Building</td>\n",
       "      <td>3003</td>\n",
       "    </tr>\n",
       "    <tr>\n",
       "      <th>3</th>\n",
       "      <td>Stretching</td>\n",
       "      <td>Low Intensity</td>\n",
       "      <td>Muscle Building</td>\n",
       "      <td>3004</td>\n",
       "    </tr>\n",
       "    <tr>\n",
       "      <th>4</th>\n",
       "      <td>Taking the stairs</td>\n",
       "      <td>High Intensity</td>\n",
       "      <td>Endurance Training</td>\n",
       "      <td>3005</td>\n",
       "    </tr>\n",
       "    <tr>\n",
       "      <th>5</th>\n",
       "      <td>Dancing</td>\n",
       "      <td>High Intensity</td>\n",
       "      <td>Endurance Training</td>\n",
       "      <td>3006</td>\n",
       "    </tr>\n",
       "    <tr>\n",
       "      <th>6</th>\n",
       "      <td>Hula Hoop</td>\n",
       "      <td>High Intensity</td>\n",
       "      <td>Endurance Training</td>\n",
       "      <td>3007</td>\n",
       "    </tr>\n",
       "    <tr>\n",
       "      <th>7</th>\n",
       "      <td>Pilates</td>\n",
       "      <td>Low Intensity</td>\n",
       "      <td>Meditation</td>\n",
       "      <td>3008</td>\n",
       "    </tr>\n",
       "  </tbody>\n",
       "</table>\n",
       "</div>"
      ],
      "text/plain": [
       "                  Title           Theme           Sub Theme    id\n",
       "0                  Yoga   Low Intensity          Meditation  3001\n",
       "1       Skipping a rope  High Intensity  Endurance Training  3002\n",
       "2  Body Weight Training   Low Intensity     Muscle Building  3003\n",
       "3            Stretching   Low Intensity     Muscle Building  3004\n",
       "4     Taking the stairs  High Intensity  Endurance Training  3005\n",
       "5               Dancing  High Intensity  Endurance Training  3006\n",
       "6             Hula Hoop  High Intensity  Endurance Training  3007\n",
       "7               Pilates   Low Intensity          Meditation  3008"
      ]
     },
     "execution_count": 652,
     "metadata": {},
     "output_type": "execute_result"
    }
   ],
   "source": [
    "indoor"
   ]
  },
  {
   "cell_type": "code",
   "execution_count": 653,
   "id": "5db6264b",
   "metadata": {},
   "outputs": [],
   "source": [
    "if 'Cardio' in pref:\n",
    "    indoor_act = indoor.loc[indoor['Theme'] == 'High Intensity']\n",
    "    indoor_act = indoor_act.sample(3)\n",
    "else:\n",
    "    indoor_act = indoor.loc[indoor['Theme'] == 'Low Intensity']\n",
    "    indoor_act = indoor_act.sample(3)\n",
    "    \n",
    "if weather == 'Rain':\n",
    "    indoor_act = indoor_act.sample(3)\n",
    "else:\n",
    "    indoor_act = indoor_act.sample(2)"
   ]
  },
  {
   "cell_type": "code",
   "execution_count": 654,
   "id": "a6afc3ae",
   "metadata": {},
   "outputs": [],
   "source": [
    "output_final = pd.concat([output, indoor_act])"
   ]
  },
  {
   "cell_type": "code",
   "execution_count": 1,
   "id": "67e9440c",
   "metadata": {},
   "outputs": [
    {
     "ename": "NameError",
     "evalue": "name 'output_final' is not defined",
     "output_type": "error",
     "traceback": [
      "\u001b[1;31m---------------------------------------------------------------------------\u001b[0m",
      "\u001b[1;31mNameError\u001b[0m                                 Traceback (most recent call last)",
      "\u001b[1;32m~\\AppData\\Local\\Temp/ipykernel_4352/2310009416.py\u001b[0m in \u001b[0;36m<module>\u001b[1;34m\u001b[0m\n\u001b[1;32m----> 1\u001b[1;33m \u001b[0moutput_final\u001b[0m\u001b[1;33m\u001b[0m\u001b[1;33m\u001b[0m\u001b[0m\n\u001b[0m",
      "\u001b[1;31mNameError\u001b[0m: name 'output_final' is not defined"
     ]
    }
   ],
   "source": [
    "output_final"
   ]
  },
  {
   "cell_type": "code",
   "execution_count": null,
   "id": "1eed1c73",
   "metadata": {},
   "outputs": [],
   "source": []
  },
  {
   "cell_type": "code",
   "execution_count": null,
   "id": "f0545a78",
   "metadata": {},
   "outputs": [],
   "source": []
  },
  {
   "cell_type": "code",
   "execution_count": null,
   "id": "6b262bbb",
   "metadata": {},
   "outputs": [],
   "source": []
  },
  {
   "cell_type": "code",
   "execution_count": null,
   "id": "00edeaf0",
   "metadata": {},
   "outputs": [],
   "source": []
  },
  {
   "cell_type": "code",
   "execution_count": null,
   "id": "9833c394",
   "metadata": {},
   "outputs": [],
   "source": []
  },
  {
   "cell_type": "code",
   "execution_count": null,
   "id": "8dc3a856",
   "metadata": {},
   "outputs": [],
   "source": []
  },
  {
   "cell_type": "code",
   "execution_count": null,
   "id": "3dd0705d",
   "metadata": {},
   "outputs": [],
   "source": []
  },
  {
   "cell_type": "code",
   "execution_count": null,
   "id": "6c9a7987",
   "metadata": {},
   "outputs": [],
   "source": []
  },
  {
   "cell_type": "code",
   "execution_count": null,
   "id": "39bc80c3",
   "metadata": {},
   "outputs": [],
   "source": []
  },
  {
   "cell_type": "code",
   "execution_count": null,
   "id": "172f9c4e",
   "metadata": {},
   "outputs": [],
   "source": []
  },
  {
   "cell_type": "code",
   "execution_count": null,
   "id": "13d0d702",
   "metadata": {},
   "outputs": [],
   "source": []
  },
  {
   "cell_type": "code",
   "execution_count": 200,
   "id": "569b804d",
   "metadata": {},
   "outputs": [],
   "source": [
    "### TESTING DATASET\n",
    "from random import randint\n",
    "concat[\"Rating\"] = concat.apply(lambda x: randint(0,2), axis=1)\n",
    "concat = concat.drop(['Title'], axis = 1)\n",
    "concat[\"Theme\"] = concat[\"Theme\"].astype('category')\n",
    "concat[\"Sub Theme\"] = concat[\"Sub Theme\"].astype('category')\n",
    "concat[\"Theme\"] = concat[\"Theme\"].cat.codes\n",
    "concat[\"Sub Theme\"] = concat[\"Sub Theme\"].cat.codes\n",
    "train = concat.loc[concat['Rating'] != 0]\n",
    "test = concat.loc[concat['Rating'] == 0]\n",
    "x_train = train.loc[:, train.columns != 'Rating']\n",
    "y_train = train['Rating']\n",
    "x_test = test.loc[:, test.columns != 'Rating']\n",
    "y_test = test['Rating']"
   ]
  },
  {
   "cell_type": "code",
   "execution_count": null,
   "id": "71f7cb96",
   "metadata": {},
   "outputs": [],
   "source": []
  },
  {
   "cell_type": "code",
   "execution_count": null,
   "id": "b0f3f3b9",
   "metadata": {},
   "outputs": [],
   "source": []
  },
  {
   "cell_type": "code",
   "execution_count": null,
   "id": "19daed58",
   "metadata": {},
   "outputs": [],
   "source": []
  },
  {
   "cell_type": "code",
   "execution_count": 201,
   "id": "bfd8a7a5",
   "metadata": {},
   "outputs": [
    {
     "data": {
      "text/plain": [
       "GaussianNB()"
      ]
     },
     "execution_count": 201,
     "metadata": {},
     "output_type": "execute_result"
    }
   ],
   "source": [
    "from sklearn.naive_bayes import GaussianNB\n",
    "gnb = GaussianNB()\n",
    "gnb.fit(x_train, y_train)"
   ]
  },
  {
   "cell_type": "code",
   "execution_count": 202,
   "id": "2b51596f",
   "metadata": {},
   "outputs": [],
   "source": [
    "y_pred = gnb.predict(x_test)"
   ]
  },
  {
   "cell_type": "code",
   "execution_count": 203,
   "id": "646d3315",
   "metadata": {},
   "outputs": [
    {
     "data": {
      "text/plain": [
       "array([1, 2, 1, 1, 1, 2, 2, 1, 1, 2, 1, 1, 2, 2, 2, 2, 2, 2, 2, 2, 2],\n",
       "      dtype=int64)"
      ]
     },
     "execution_count": 203,
     "metadata": {},
     "output_type": "execute_result"
    }
   ],
   "source": [
    "y_pred"
   ]
  },
  {
   "cell_type": "code",
   "execution_count": 351,
   "id": "1bc30dda",
   "metadata": {},
   "outputs": [],
   "source": [
    "from sklearn.model_selection import train_test_split\n",
    "concat[\"Rating\"] = concat.apply(lambda x: randint(0,2), axis=1)\n",
    "\n",
    "concat[\"Theme\"] = concat[\"Theme\"].astype('category')\n",
    "d1 = dict(enumerate(concat['Theme'].cat.categories))\n",
    "concat[\"Sub Theme\"] = concat[\"Sub Theme\"].astype('category')\n",
    "d2 = dict(enumerate(concat['Sub Theme'].cat.categories))\n",
    "\n",
    "concat[\"Theme\"] = concat[\"Theme\"].cat.codes\n",
    "concat[\"Sub Theme\"] = concat[\"Sub Theme\"].cat.codes\n",
    "train = concat.loc[concat['Rating'] != 0]\n",
    "train, test = train_test_split(train, test_size = 0.3, random_state = 1)\n",
    "x_train = train.loc[:, ~train.columns.isin(['Rating', 'Title'])]\n",
    "y_train = train['Rating']\n",
    "x_test = test.loc[:, ~test.columns.isin(['Rating', 'Title'])]\n",
    "y_test = test['Rating']"
   ]
  },
  {
   "cell_type": "code",
   "execution_count": 352,
   "id": "2ffbcfb1",
   "metadata": {},
   "outputs": [
    {
     "data": {
      "text/plain": [
       "GaussianNB()"
      ]
     },
     "execution_count": 352,
     "metadata": {},
     "output_type": "execute_result"
    }
   ],
   "source": [
    "from sklearn.naive_bayes import GaussianNB\n",
    "gnb = GaussianNB()\n",
    "gnb.fit(x_train, y_train)"
   ]
  },
  {
   "cell_type": "code",
   "execution_count": 353,
   "id": "ace9ad0d",
   "metadata": {},
   "outputs": [],
   "source": [
    "y_pred = gnb.predict(x_test)"
   ]
  },
  {
   "cell_type": "code",
   "execution_count": 354,
   "id": "24c1a1a1",
   "metadata": {},
   "outputs": [
    {
     "name": "stdout",
     "output_type": "stream",
     "text": [
      "Gaussian Naive Bayes model accuracy(in %): 30.0\n"
     ]
    }
   ],
   "source": [
    "from sklearn import metrics\n",
    "print(\"Gaussian Naive Bayes model accuracy(in %):\", metrics.accuracy_score(y_test, y_pred)*100)"
   ]
  },
  {
   "cell_type": "code",
   "execution_count": 355,
   "id": "cd547f7e",
   "metadata": {},
   "outputs": [],
   "source": [
    "train['Rating'] = y_train\n",
    "test['Rating'] = y_pred\n",
    "pred = pd.concat([train, test])\n",
    "pred = pred.loc[pred['Rating'] == 2]\n",
    "pred['Theme'] = pred['Theme'].map(d1)\n",
    "pred['Sub Theme'] = pred['Sub Theme'].map(d2)\n",
    "df_elements = pred.sample(n)"
   ]
  },
  {
   "cell_type": "code",
   "execution_count": 356,
   "id": "99b42206",
   "metadata": {},
   "outputs": [
    {
     "data": {
      "text/html": [
       "<div>\n",
       "<style scoped>\n",
       "    .dataframe tbody tr th:only-of-type {\n",
       "        vertical-align: middle;\n",
       "    }\n",
       "\n",
       "    .dataframe tbody tr th {\n",
       "        vertical-align: top;\n",
       "    }\n",
       "\n",
       "    .dataframe thead th {\n",
       "        text-align: right;\n",
       "    }\n",
       "</style>\n",
       "<table border=\"1\" class=\"dataframe\">\n",
       "  <thead>\n",
       "    <tr style=\"text-align: right;\">\n",
       "      <th></th>\n",
       "      <th>Title</th>\n",
       "      <th>Theme</th>\n",
       "      <th>Sub Theme</th>\n",
       "      <th>Latitude</th>\n",
       "      <th>Longitude</th>\n",
       "      <th>Green Space</th>\n",
       "      <th>id</th>\n",
       "      <th>Walking</th>\n",
       "      <th>Cardio</th>\n",
       "      <th>Sightseeing</th>\n",
       "      <th>Rating</th>\n",
       "    </tr>\n",
       "  </thead>\n",
       "  <tbody>\n",
       "    <tr>\n",
       "      <th>230</th>\n",
       "      <td>Artplay</td>\n",
       "      <td>Leisure/Recreation</td>\n",
       "      <td>Indoor Recreation Facility</td>\n",
       "      <td>144.971543</td>\n",
       "      <td>-37.818420</td>\n",
       "      <td>True</td>\n",
       "      <td>1231</td>\n",
       "      <td>False</td>\n",
       "      <td>True</td>\n",
       "      <td>False</td>\n",
       "      <td>2</td>\n",
       "    </tr>\n",
       "    <tr>\n",
       "      <th>221</th>\n",
       "      <td>Newmarket Reserve</td>\n",
       "      <td>Leisure/Recreation</td>\n",
       "      <td>Informal Outdoor Facility (Park/Garden/Reserve)</td>\n",
       "      <td>144.922972</td>\n",
       "      <td>-37.787847</td>\n",
       "      <td>True</td>\n",
       "      <td>1222</td>\n",
       "      <td>True</td>\n",
       "      <td>False</td>\n",
       "      <td>False</td>\n",
       "      <td>2</td>\n",
       "    </tr>\n",
       "    <tr>\n",
       "      <th>194</th>\n",
       "      <td>Carlton Gardens South</td>\n",
       "      <td>Leisure/Recreation</td>\n",
       "      <td>Informal Outdoor Facility (Park/Garden/Reserve)</td>\n",
       "      <td>144.971266</td>\n",
       "      <td>-37.806068</td>\n",
       "      <td>True</td>\n",
       "      <td>1195</td>\n",
       "      <td>True</td>\n",
       "      <td>False</td>\n",
       "      <td>False</td>\n",
       "      <td>2</td>\n",
       "    </tr>\n",
       "    <tr>\n",
       "      <th>263</th>\n",
       "      <td>City Baths</td>\n",
       "      <td>Leisure/Recreation</td>\n",
       "      <td>Major Sports &amp; Recreation Facility</td>\n",
       "      <td>144.963190</td>\n",
       "      <td>-37.807159</td>\n",
       "      <td>True</td>\n",
       "      <td>1264</td>\n",
       "      <td>False</td>\n",
       "      <td>True</td>\n",
       "      <td>False</td>\n",
       "      <td>2</td>\n",
       "    </tr>\n",
       "  </tbody>\n",
       "</table>\n",
       "</div>"
      ],
      "text/plain": [
       "                     Title               Theme  \\\n",
       "230                Artplay  Leisure/Recreation   \n",
       "221      Newmarket Reserve  Leisure/Recreation   \n",
       "194  Carlton Gardens South  Leisure/Recreation   \n",
       "263             City Baths  Leisure/Recreation   \n",
       "\n",
       "                                           Sub Theme    Latitude  Longitude  \\\n",
       "230                       Indoor Recreation Facility  144.971543 -37.818420   \n",
       "221  Informal Outdoor Facility (Park/Garden/Reserve)  144.922972 -37.787847   \n",
       "194  Informal Outdoor Facility (Park/Garden/Reserve)  144.971266 -37.806068   \n",
       "263               Major Sports & Recreation Facility  144.963190 -37.807159   \n",
       "\n",
       "    Green Space    id Walking Cardio Sightseeing  Rating  \n",
       "230        True  1231   False   True       False       2  \n",
       "221        True  1222    True  False       False       2  \n",
       "194        True  1195    True  False       False       2  \n",
       "263        True  1264   False   True       False       2  "
      ]
     },
     "execution_count": 356,
     "metadata": {},
     "output_type": "execute_result"
    }
   ],
   "source": [
    "df_elements"
   ]
  },
  {
   "cell_type": "code",
   "execution_count": 357,
   "id": "83accd06",
   "metadata": {},
   "outputs": [
    {
     "data": {
      "text/plain": [
       "{0: 'Leisure/Recreation'}"
      ]
     },
     "execution_count": 357,
     "metadata": {},
     "output_type": "execute_result"
    }
   ],
   "source": [
    "d1"
   ]
  },
  {
   "cell_type": "code",
   "execution_count": null,
   "id": "3c060964",
   "metadata": {},
   "outputs": [],
   "source": []
  }
 ],
 "metadata": {
  "kernelspec": {
   "display_name": "Python 3 (ipykernel)",
   "language": "python",
   "name": "python3"
  },
  "language_info": {
   "codemirror_mode": {
    "name": "ipython",
    "version": 3
   },
   "file_extension": ".py",
   "mimetype": "text/x-python",
   "name": "python",
   "nbconvert_exporter": "python",
   "pygments_lexer": "ipython3",
   "version": "3.9.7"
  }
 },
 "nbformat": 4,
 "nbformat_minor": 5
}
