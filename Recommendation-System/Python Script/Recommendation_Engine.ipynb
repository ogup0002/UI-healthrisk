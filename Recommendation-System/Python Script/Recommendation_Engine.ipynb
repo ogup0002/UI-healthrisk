{
 "cells": [
  {
   "cell_type": "code",
   "execution_count": 2,
   "id": "bc9eabf5",
   "metadata": {},
   "outputs": [],
   "source": [
    "import pandas as pd\n",
    "import requests"
   ]
  },
  {
   "cell_type": "code",
   "execution_count": 3,
   "id": "0bcdadc3",
   "metadata": {},
   "outputs": [],
   "source": [
    "#!pip install requests"
   ]
  },
  {
   "cell_type": "code",
   "execution_count": 4,
   "id": "5f508d49",
   "metadata": {},
   "outputs": [],
   "source": [
    "#url = \"https://api.openweathermap.org/data/3.0/onecall?lat=-37.840935&lon=144.946457&exclude=minutely&appid=c92389d6904463e3cb24208905434fd9\"\n",
    "url = \"https://api.openweathermap.org/data/2.5/weather?lat=-37.840935&lon=144.946457&appid=c92389d6904463e3cb24208905434fd9\"\n",
    "response = requests.get(url)"
   ]
  },
  {
   "cell_type": "code",
   "execution_count": 5,
   "id": "0a19aefa",
   "metadata": {},
   "outputs": [],
   "source": [
    "json = response.json()"
   ]
  },
  {
   "cell_type": "code",
   "execution_count": 6,
   "id": "978b9517",
   "metadata": {},
   "outputs": [],
   "source": [
    "weather = json['weather'][0]['main']"
   ]
  },
  {
   "cell_type": "code",
   "execution_count": 39,
   "id": "ebf91a8b",
   "metadata": {},
   "outputs": [],
   "source": [
    "weather = 'Rain'"
   ]
  },
  {
   "cell_type": "code",
   "execution_count": 40,
   "id": "c9084b46",
   "metadata": {},
   "outputs": [],
   "source": [
    "data = pd.read_csv('outdoor.csv')"
   ]
  },
  {
   "cell_type": "code",
   "execution_count": 41,
   "id": "14ea8f9d",
   "metadata": {},
   "outputs": [],
   "source": [
    "data = data.drop(['Unnamed: 0','Rating'], axis = 1)"
   ]
  },
  {
   "cell_type": "code",
   "execution_count": 42,
   "id": "499b1b3b",
   "metadata": {},
   "outputs": [
    {
     "data": {
      "text/html": [
       "<div>\n",
       "<style scoped>\n",
       "    .dataframe tbody tr th:only-of-type {\n",
       "        vertical-align: middle;\n",
       "    }\n",
       "\n",
       "    .dataframe tbody tr th {\n",
       "        vertical-align: top;\n",
       "    }\n",
       "\n",
       "    .dataframe thead th {\n",
       "        text-align: right;\n",
       "    }\n",
       "</style>\n",
       "<table border=\"1\" class=\"dataframe\">\n",
       "  <thead>\n",
       "    <tr style=\"text-align: right;\">\n",
       "      <th></th>\n",
       "      <th>Title</th>\n",
       "      <th>Theme</th>\n",
       "      <th>Sub Theme</th>\n",
       "      <th>Latitude</th>\n",
       "      <th>Longitude</th>\n",
       "      <th>Green Space</th>\n",
       "      <th>id</th>\n",
       "      <th>Walking</th>\n",
       "      <th>Cardio</th>\n",
       "      <th>Sightseeing</th>\n",
       "    </tr>\n",
       "  </thead>\n",
       "  <tbody>\n",
       "    <tr>\n",
       "      <th>0</th>\n",
       "      <td>Lynch''''s Bridge Mosaic Mural</td>\n",
       "      <td>Mural</td>\n",
       "      <td>Sculpture</td>\n",
       "      <td>144.923939</td>\n",
       "      <td>-37.790205</td>\n",
       "      <td>False</td>\n",
       "      <td>1001</td>\n",
       "      <td>False</td>\n",
       "      <td>False</td>\n",
       "      <td>True</td>\n",
       "    </tr>\n",
       "    <tr>\n",
       "      <th>1</th>\n",
       "      <td>Coles Fountain</td>\n",
       "      <td>Fountain</td>\n",
       "      <td>Memorials</td>\n",
       "      <td>144.973484</td>\n",
       "      <td>-37.809771</td>\n",
       "      <td>False</td>\n",
       "      <td>1002</td>\n",
       "      <td>False</td>\n",
       "      <td>False</td>\n",
       "      <td>True</td>\n",
       "    </tr>\n",
       "    <tr>\n",
       "      <th>2</th>\n",
       "      <td>Beyond the Ocean of Existence</td>\n",
       "      <td>Sculpture</td>\n",
       "      <td>Sculpture</td>\n",
       "      <td>144.967062</td>\n",
       "      <td>-37.816424</td>\n",
       "      <td>False</td>\n",
       "      <td>1003</td>\n",
       "      <td>False</td>\n",
       "      <td>False</td>\n",
       "      <td>True</td>\n",
       "    </tr>\n",
       "    <tr>\n",
       "      <th>3</th>\n",
       "      <td>Vault</td>\n",
       "      <td>Sculpture</td>\n",
       "      <td>Sculpture</td>\n",
       "      <td>144.967733</td>\n",
       "      <td>-37.826071</td>\n",
       "      <td>False</td>\n",
       "      <td>1004</td>\n",
       "      <td>False</td>\n",
       "      <td>False</td>\n",
       "      <td>True</td>\n",
       "    </tr>\n",
       "    <tr>\n",
       "      <th>4</th>\n",
       "      <td>Sir Thomas Blamey Memorial</td>\n",
       "      <td>Memorial</td>\n",
       "      <td>Sculpture</td>\n",
       "      <td>144.972819</td>\n",
       "      <td>-37.826301</td>\n",
       "      <td>False</td>\n",
       "      <td>1005</td>\n",
       "      <td>False</td>\n",
       "      <td>False</td>\n",
       "      <td>True</td>\n",
       "    </tr>\n",
       "  </tbody>\n",
       "</table>\n",
       "</div>"
      ],
      "text/plain": [
       "                            Title      Theme  Sub Theme    Latitude  \\\n",
       "0  Lynch''''s Bridge Mosaic Mural      Mural  Sculpture  144.923939   \n",
       "1                  Coles Fountain   Fountain  Memorials  144.973484   \n",
       "2   Beyond the Ocean of Existence  Sculpture  Sculpture  144.967062   \n",
       "3                           Vault  Sculpture  Sculpture  144.967733   \n",
       "4      Sir Thomas Blamey Memorial   Memorial  Sculpture  144.972819   \n",
       "\n",
       "   Longitude  Green Space    id  Walking  Cardio  Sightseeing  \n",
       "0 -37.790205        False  1001    False   False         True  \n",
       "1 -37.809771        False  1002    False   False         True  \n",
       "2 -37.816424        False  1003    False   False         True  \n",
       "3 -37.826071        False  1004    False   False         True  \n",
       "4 -37.826301        False  1005    False   False         True  "
      ]
     },
     "execution_count": 42,
     "metadata": {},
     "output_type": "execute_result"
    }
   ],
   "source": [
    "data.head()"
   ]
  },
  {
   "cell_type": "code",
   "execution_count": 43,
   "id": "9010eef1",
   "metadata": {},
   "outputs": [],
   "source": [
    "id = [1011, 1074, 1273, 1180, 2002]\n",
    "Rating = [2,2, 1, 1, 2]\n",
    "user = pd.DataFrame()\n",
    "user[\"id\"] = id\n",
    "user[\"Rating\"] = Rating"
   ]
  },
  {
   "cell_type": "code",
   "execution_count": 44,
   "id": "e171a1a4",
   "metadata": {},
   "outputs": [],
   "source": [
    "pref = ['Walking', 'Cardio', 'Cycling', 'Dog']\n",
    "if 'Cycling' in pref:\n",
    "    if weather == 'Rain':\n",
    "        n = 2\n",
    "    else:\n",
    "        n = 3\n",
    "elif 'Dog' in pref:\n",
    "    if weather == 'Rain':\n",
    "        n = 3\n",
    "    else: \n",
    "        n = 2\n",
    "else:\n",
    "    if weather == 'Rain':\n",
    "        n = 2\n",
    "    else:\n",
    "        n = 3"
   ]
  },
  {
   "cell_type": "code",
   "execution_count": 45,
   "id": "e2671eee",
   "metadata": {},
   "outputs": [
    {
     "data": {
      "text/plain": [
       "dtype('int64')"
      ]
     },
     "execution_count": 45,
     "metadata": {},
     "output_type": "execute_result"
    }
   ],
   "source": [
    "user['Rating'].dtype"
   ]
  },
  {
   "cell_type": "code",
   "execution_count": 46,
   "id": "f92ad596",
   "metadata": {},
   "outputs": [],
   "source": [
    "temp = data\n",
    "merged = pd.merge(temp, user, on = 'id', how = 'left')\n",
    "merged['Rating'] = merged['Rating'].fillna(0)\n",
    "merged = merged.astype({'Rating': 'int64'})"
   ]
  },
  {
   "cell_type": "code",
   "execution_count": 47,
   "id": "04cc8f00",
   "metadata": {},
   "outputs": [],
   "source": [
    "temp1 = pd.DataFrame(columns = [\"Title\", \"Theme\",\"Sub Theme\",\"Latitude\",\"Longitude\",\"Green Space\",\"id\",\"Walking\",\"Cardio\",\"Sightseeing\",\"Rating\"])\n",
    "temp2 = pd.DataFrame(columns = [\"Title\", \"Theme\",\"Sub Theme\",\"Latitude\",\"Longitude\",\"Green Space\",\"id\",\"Walking\",\"Cardio\",\"Sightseeing\",\"Rating\"])\n",
    "temp3 = pd.DataFrame(columns = [\"Title\", \"Theme\",\"Sub Theme\",\"Latitude\",\"Longitude\",\"Green Space\",\"id\",\"Walking\",\"Cardio\",\"Sightseeing\",\"Rating\"])\n",
    "if 'Walking' in pref:\n",
    "    temp1 = merged[merged.Walking != False]\n",
    "if 'Cardio' in pref:\n",
    "    temp2 = merged[merged.Cardio != False]\n",
    "if 'Sightseeing' in pref:\n",
    "    temp3 = merged[merged.Sightseeing != False]"
   ]
  },
  {
   "cell_type": "markdown",
   "id": "6f7de470",
   "metadata": {},
   "source": [
    "000\n",
    "001\n",
    "011\n",
    "111\n",
    "010\n",
    "100\n",
    "110\n",
    "101"
   ]
  },
  {
   "cell_type": "code",
   "execution_count": 48,
   "id": "982517cb",
   "metadata": {},
   "outputs": [],
   "source": [
    "concat = pd.concat([temp1, temp2, temp3])"
   ]
  },
  {
   "cell_type": "code",
   "execution_count": 49,
   "id": "e1734b93",
   "metadata": {},
   "outputs": [],
   "source": [
    "if concat.empty:\n",
    "    concat = temp"
   ]
  },
  {
   "cell_type": "code",
   "execution_count": 50,
   "id": "b19a5807",
   "metadata": {},
   "outputs": [],
   "source": [
    "# from sklearn.model_selection import train_test_split\n",
    "from sklearn.naive_bayes import GaussianNB\n",
    "if len(concat[(concat['Rating'] != 0)]) < 50:\n",
    "    df_elements = concat.sample(n)\n",
    "else:\n",
    "#     len(concat[(concat['Rating'] != 0)]) > 50\n",
    "#     train, test = train_test_split(concat, test_size = 0.2)\n",
    "    concat[\"Theme\"] = concat[\"Theme\"].astype('category')\n",
    "    d1 = dict(enumerate(concat['Theme'].cat.categories))\n",
    "    concat[\"Sub Theme\"] = concat[\"Sub Theme\"].astype('category')\n",
    "    d2 = dict(enumerate(concat['Sub Theme'].cat.categories))\n",
    "    concat[\"Theme\"] = concat[\"Theme\"].cat.codes\n",
    "    concat[\"Sub Theme\"] = concat[\"Sub Theme\"].cat.codes\n",
    "\n",
    "    train = concat.loc[concat['Rating'] != 0]\n",
    "    test = concat.loc[concat['Rating'] == 0]\n",
    "    x_train = train.loc[:, ~train.columns.isin(['Rating', 'Title'])]\n",
    "    y_train = train['Rating']\n",
    "    x_test = test.loc[:, ~test.columns.isin(['Rating', 'Title'])]\n",
    "    y_test = test['Rating']\n",
    "    from sklearn.naive_bayes import GaussianNB\n",
    "    gnb = GaussianNB()\n",
    "    gnb.fit(x_train, y_train)\n",
    "    y_pred = gnb.predict(x_test)\n",
    "    train['Rating'] = y_train\n",
    "    test['Rating'] = y_pred\n",
    "\n",
    "    pred = pd.concat([train, test])\n",
    "    pred = pred.loc[pred['Rating'] == 2]\n",
    "    pred['Theme'] = pred['Theme'].map(d1)\n",
    "    pred['Sub Theme'] = pred['Sub Theme'].map(d2)\n",
    "    df_elements = pred.sample(n)\n",
    "df_elements = df_elements.drop(['Walking', 'Cardio', 'Sightseeing', 'Green Space'], axis = 1)"
   ]
  },
  {
   "cell_type": "code",
   "execution_count": 51,
   "id": "931be3ca",
   "metadata": {},
   "outputs": [
    {
     "data": {
      "text/html": [
       "<div>\n",
       "<style scoped>\n",
       "    .dataframe tbody tr th:only-of-type {\n",
       "        vertical-align: middle;\n",
       "    }\n",
       "\n",
       "    .dataframe tbody tr th {\n",
       "        vertical-align: top;\n",
       "    }\n",
       "\n",
       "    .dataframe thead th {\n",
       "        text-align: right;\n",
       "    }\n",
       "</style>\n",
       "<table border=\"1\" class=\"dataframe\">\n",
       "  <thead>\n",
       "    <tr style=\"text-align: right;\">\n",
       "      <th></th>\n",
       "      <th>Title</th>\n",
       "      <th>Theme</th>\n",
       "      <th>Sub Theme</th>\n",
       "      <th>Latitude</th>\n",
       "      <th>Longitude</th>\n",
       "      <th>id</th>\n",
       "      <th>Rating</th>\n",
       "    </tr>\n",
       "  </thead>\n",
       "  <tbody>\n",
       "    <tr>\n",
       "      <th>231</th>\n",
       "      <td>Riverslide Skate Park</td>\n",
       "      <td>Leisure/Recreation</td>\n",
       "      <td>Informal Outdoor Facility (Park/Garden/Reserve)</td>\n",
       "      <td>144.972952</td>\n",
       "      <td>-37.820789</td>\n",
       "      <td>1232</td>\n",
       "      <td>0</td>\n",
       "    </tr>\n",
       "    <tr>\n",
       "      <th>246</th>\n",
       "      <td>Fawkner Park</td>\n",
       "      <td>Leisure/Recreation</td>\n",
       "      <td>Informal Outdoor Facility (Park/Garden/Reserve)</td>\n",
       "      <td>144.981626</td>\n",
       "      <td>-37.841400</td>\n",
       "      <td>1247</td>\n",
       "      <td>0</td>\n",
       "    </tr>\n",
       "  </tbody>\n",
       "</table>\n",
       "</div>"
      ],
      "text/plain": [
       "                     Title               Theme  \\\n",
       "231  Riverslide Skate Park  Leisure/Recreation   \n",
       "246           Fawkner Park  Leisure/Recreation   \n",
       "\n",
       "                                           Sub Theme    Latitude  Longitude  \\\n",
       "231  Informal Outdoor Facility (Park/Garden/Reserve)  144.972952 -37.820789   \n",
       "246  Informal Outdoor Facility (Park/Garden/Reserve)  144.981626 -37.841400   \n",
       "\n",
       "       id Rating  \n",
       "231  1232      0  \n",
       "246  1247      0  "
      ]
     },
     "execution_count": 51,
     "metadata": {},
     "output_type": "execute_result"
    }
   ],
   "source": [
    "df_elements"
   ]
  },
  {
   "cell_type": "code",
   "execution_count": 52,
   "id": "aaf6759a",
   "metadata": {},
   "outputs": [],
   "source": [
    "from math import radians, cos, sin, asin, sqrt\n",
    "\n",
    "def haversine(lon1, lat1, lon2, lat2):\n",
    "    \"\"\"\n",
    "    Calculate the great circle distance in kilometers between two points \n",
    "    on the earth (specified in decimal degrees)\n",
    "    \"\"\"\n",
    "    # convert decimal degrees to radians \n",
    "    lon1, lat1, lon2, lat2 = map(radians, [lon1, lat1, lon2, lat2])\n",
    "\n",
    "        # haversine formula \n",
    "    dlon = lon2 - lon1 \n",
    "    dlat = lat2 - lat1 \n",
    "    a = sin(dlat/2)**2 + cos(lat1) * cos(lat2) * sin(dlon/2)**2\n",
    "    c = 2 * asin(sqrt(a)) \n",
    "    r = 6371 # Radius of earth in kilometers. Use 3956 for miles. Determines return value units.\n",
    "    return c * r   "
   ]
  },
  {
   "cell_type": "code",
   "execution_count": 53,
   "id": "1e10dee4",
   "metadata": {},
   "outputs": [],
   "source": [
    "if 'Cycling' in pref:\n",
    "    bike = pd.read_csv('bicycle.csv')\n",
    "    bike.drop(['Unnamed: 0'], axis = 1)\n",
    "#     bike['Rating'] = 0\n",
    "    \n",
    "    temp = bike\n",
    "    bikemerged = pd.merge(temp, user, on = 'id', how = 'left')\n",
    "    bikemerged['Rating'] = bikemerged['Rating'].fillna(0)\n",
    "    bikemerged = bikemerged.astype({'Rating': 'int64'})\n",
    "    bike_high = bikemerged.loc[bikemerged['Rating'] == 2]\n",
    "    selection = bike_high.sample(1)\n",
    "    if selection.empty:\n",
    "        record = bike.sample(1)\n",
    "    else:\n",
    "        lon, lat = selection['Longitude'], selection['Latitude'] \n",
    "        bikemerged['haversine_calc'] = [haversine(lon,lat, bikemerged['Longitude'][i], bikemerged['Latitude'][i])for i in range(len(bike))]\n",
    "        bikemerged = bikemerged[bikemerged[\"haversine_calc\"]>0]\n",
    "        bikemerged = bikemerged.drop(['Unnamed: 0'], axis = 1)\n",
    "        record = bikemerged.loc[bikemerged.haversine_calc == bikemerged.haversine_calc.min()]\n",
    "        record = record.drop(['haversine_calc'], axis = 1)"
   ]
  },
  {
   "cell_type": "code",
   "execution_count": 54,
   "id": "93f0dcba",
   "metadata": {},
   "outputs": [],
   "source": [
    "output = pd.concat([df_elements, record])"
   ]
  },
  {
   "cell_type": "code",
   "execution_count": 55,
   "id": "5d1af8ff",
   "metadata": {},
   "outputs": [],
   "source": [
    "indoor = pd.DataFrame()\n",
    "Title = ['Yoga', 'Skipping a rope', 'Body Weight Training', 'Stretching', 'Taking the stairs', 'Dancing', 'Hula Hoop', 'Pilates']\n",
    "Theme = ['Low Intensity', 'High Intensity', 'Low Intensity', 'Low Intensity', 'High Intensity', 'High Intensity', 'High Intensity', 'Low Intensity']\n",
    "SubTheme = ['Meditation', 'Endurance Training', 'Muscle Building', 'Muscle Building', 'Endurance Training', 'Endurance Training', 'Endurance Training', 'Meditation']\n",
    "id = [3001, 3002, 3003, 3004, 3005, 3006, 3007, 3008]\n",
    "indoor['Title'] = Title\n",
    "indoor['Theme'] = Theme\n",
    "indoor['Sub Theme'] = SubTheme\n",
    "indoor['id'] = id\n",
    "\n",
    "indoor = pd.merge(indoor, user, on = 'id', how = 'left')\n",
    "indoor['Rating'] = indoor['Rating'].fillna(0)\n",
    "indoor = indoor.astype({'Rating': 'int64'})"
   ]
  },
  {
   "cell_type": "code",
   "execution_count": 56,
   "id": "c901480d",
   "metadata": {},
   "outputs": [
    {
     "data": {
      "text/html": [
       "<div>\n",
       "<style scoped>\n",
       "    .dataframe tbody tr th:only-of-type {\n",
       "        vertical-align: middle;\n",
       "    }\n",
       "\n",
       "    .dataframe tbody tr th {\n",
       "        vertical-align: top;\n",
       "    }\n",
       "\n",
       "    .dataframe thead th {\n",
       "        text-align: right;\n",
       "    }\n",
       "</style>\n",
       "<table border=\"1\" class=\"dataframe\">\n",
       "  <thead>\n",
       "    <tr style=\"text-align: right;\">\n",
       "      <th></th>\n",
       "      <th>Title</th>\n",
       "      <th>Theme</th>\n",
       "      <th>Sub Theme</th>\n",
       "      <th>id</th>\n",
       "      <th>Rating</th>\n",
       "    </tr>\n",
       "  </thead>\n",
       "  <tbody>\n",
       "    <tr>\n",
       "      <th>0</th>\n",
       "      <td>Yoga</td>\n",
       "      <td>Low Intensity</td>\n",
       "      <td>Meditation</td>\n",
       "      <td>3001</td>\n",
       "      <td>0</td>\n",
       "    </tr>\n",
       "    <tr>\n",
       "      <th>1</th>\n",
       "      <td>Skipping a rope</td>\n",
       "      <td>High Intensity</td>\n",
       "      <td>Endurance Training</td>\n",
       "      <td>3002</td>\n",
       "      <td>0</td>\n",
       "    </tr>\n",
       "    <tr>\n",
       "      <th>2</th>\n",
       "      <td>Body Weight Training</td>\n",
       "      <td>Low Intensity</td>\n",
       "      <td>Muscle Building</td>\n",
       "      <td>3003</td>\n",
       "      <td>0</td>\n",
       "    </tr>\n",
       "    <tr>\n",
       "      <th>3</th>\n",
       "      <td>Stretching</td>\n",
       "      <td>Low Intensity</td>\n",
       "      <td>Muscle Building</td>\n",
       "      <td>3004</td>\n",
       "      <td>0</td>\n",
       "    </tr>\n",
       "    <tr>\n",
       "      <th>4</th>\n",
       "      <td>Taking the stairs</td>\n",
       "      <td>High Intensity</td>\n",
       "      <td>Endurance Training</td>\n",
       "      <td>3005</td>\n",
       "      <td>0</td>\n",
       "    </tr>\n",
       "    <tr>\n",
       "      <th>5</th>\n",
       "      <td>Dancing</td>\n",
       "      <td>High Intensity</td>\n",
       "      <td>Endurance Training</td>\n",
       "      <td>3006</td>\n",
       "      <td>0</td>\n",
       "    </tr>\n",
       "    <tr>\n",
       "      <th>6</th>\n",
       "      <td>Hula Hoop</td>\n",
       "      <td>High Intensity</td>\n",
       "      <td>Endurance Training</td>\n",
       "      <td>3007</td>\n",
       "      <td>0</td>\n",
       "    </tr>\n",
       "    <tr>\n",
       "      <th>7</th>\n",
       "      <td>Pilates</td>\n",
       "      <td>Low Intensity</td>\n",
       "      <td>Meditation</td>\n",
       "      <td>3008</td>\n",
       "      <td>0</td>\n",
       "    </tr>\n",
       "  </tbody>\n",
       "</table>\n",
       "</div>"
      ],
      "text/plain": [
       "                  Title           Theme           Sub Theme    id  Rating\n",
       "0                  Yoga   Low Intensity          Meditation  3001       0\n",
       "1       Skipping a rope  High Intensity  Endurance Training  3002       0\n",
       "2  Body Weight Training   Low Intensity     Muscle Building  3003       0\n",
       "3            Stretching   Low Intensity     Muscle Building  3004       0\n",
       "4     Taking the stairs  High Intensity  Endurance Training  3005       0\n",
       "5               Dancing  High Intensity  Endurance Training  3006       0\n",
       "6             Hula Hoop  High Intensity  Endurance Training  3007       0\n",
       "7               Pilates   Low Intensity          Meditation  3008       0"
      ]
     },
     "execution_count": 56,
     "metadata": {},
     "output_type": "execute_result"
    }
   ],
   "source": [
    "indoor"
   ]
  },
  {
   "cell_type": "code",
   "execution_count": 57,
   "id": "0df8666d",
   "metadata": {},
   "outputs": [],
   "source": [
    "if 'Cardio' in pref:\n",
    "    indoor_act = indoor.loc[indoor['Theme'] == 'High Intensity']\n",
    "    indoor_act = indoor_act.sample(3)\n",
    "else:\n",
    "    indoor_act = indoor.loc[indoor['Theme'] == 'Low Intensity']\n",
    "    indoor_act = indoor_act.sample(3)\n",
    "    \n",
    "if weather == 'Rain':\n",
    "    indoor_act = indoor_act.sample(3)\n",
    "else:\n",
    "    indoor_act = indoor_act.sample(2)"
   ]
  },
  {
   "cell_type": "code",
   "execution_count": 58,
   "id": "0055744c",
   "metadata": {},
   "outputs": [],
   "source": [
    "output_final = pd.concat([output, indoor_act]).sample(6)"
   ]
  },
  {
   "cell_type": "code",
   "execution_count": 59,
   "id": "f6172f57",
   "metadata": {},
   "outputs": [
    {
     "data": {
      "text/html": [
       "<div>\n",
       "<style scoped>\n",
       "    .dataframe tbody tr th:only-of-type {\n",
       "        vertical-align: middle;\n",
       "    }\n",
       "\n",
       "    .dataframe tbody tr th {\n",
       "        vertical-align: top;\n",
       "    }\n",
       "\n",
       "    .dataframe thead th {\n",
       "        text-align: right;\n",
       "    }\n",
       "</style>\n",
       "<table border=\"1\" class=\"dataframe\">\n",
       "  <thead>\n",
       "    <tr style=\"text-align: right;\">\n",
       "      <th></th>\n",
       "      <th>Title</th>\n",
       "      <th>Theme</th>\n",
       "      <th>Sub Theme</th>\n",
       "      <th>Latitude</th>\n",
       "      <th>Longitude</th>\n",
       "      <th>id</th>\n",
       "      <th>Rating</th>\n",
       "    </tr>\n",
       "  </thead>\n",
       "  <tbody>\n",
       "    <tr>\n",
       "      <th>245</th>\n",
       "      <td>Off-Road Bike Route</td>\n",
       "      <td>Both Directions</td>\n",
       "      <td>Off-Road Bike Route</td>\n",
       "      <td>144.954039</td>\n",
       "      <td>-37.782476</td>\n",
       "      <td>2246</td>\n",
       "      <td>0</td>\n",
       "    </tr>\n",
       "    <tr>\n",
       "      <th>231</th>\n",
       "      <td>Riverslide Skate Park</td>\n",
       "      <td>Leisure/Recreation</td>\n",
       "      <td>Informal Outdoor Facility (Park/Garden/Reserve)</td>\n",
       "      <td>144.972952</td>\n",
       "      <td>-37.820789</td>\n",
       "      <td>1232</td>\n",
       "      <td>0</td>\n",
       "    </tr>\n",
       "    <tr>\n",
       "      <th>5</th>\n",
       "      <td>Dancing</td>\n",
       "      <td>High Intensity</td>\n",
       "      <td>Endurance Training</td>\n",
       "      <td>NaN</td>\n",
       "      <td>NaN</td>\n",
       "      <td>3006</td>\n",
       "      <td>0</td>\n",
       "    </tr>\n",
       "    <tr>\n",
       "      <th>246</th>\n",
       "      <td>Fawkner Park</td>\n",
       "      <td>Leisure/Recreation</td>\n",
       "      <td>Informal Outdoor Facility (Park/Garden/Reserve)</td>\n",
       "      <td>144.981626</td>\n",
       "      <td>-37.841400</td>\n",
       "      <td>1247</td>\n",
       "      <td>0</td>\n",
       "    </tr>\n",
       "    <tr>\n",
       "      <th>1</th>\n",
       "      <td>Skipping a rope</td>\n",
       "      <td>High Intensity</td>\n",
       "      <td>Endurance Training</td>\n",
       "      <td>NaN</td>\n",
       "      <td>NaN</td>\n",
       "      <td>3002</td>\n",
       "      <td>0</td>\n",
       "    </tr>\n",
       "    <tr>\n",
       "      <th>4</th>\n",
       "      <td>Taking the stairs</td>\n",
       "      <td>High Intensity</td>\n",
       "      <td>Endurance Training</td>\n",
       "      <td>NaN</td>\n",
       "      <td>NaN</td>\n",
       "      <td>3005</td>\n",
       "      <td>0</td>\n",
       "    </tr>\n",
       "  </tbody>\n",
       "</table>\n",
       "</div>"
      ],
      "text/plain": [
       "                     Title               Theme  \\\n",
       "245    Off-Road Bike Route     Both Directions   \n",
       "231  Riverslide Skate Park  Leisure/Recreation   \n",
       "5                  Dancing      High Intensity   \n",
       "246           Fawkner Park  Leisure/Recreation   \n",
       "1          Skipping a rope      High Intensity   \n",
       "4        Taking the stairs      High Intensity   \n",
       "\n",
       "                                           Sub Theme    Latitude  Longitude  \\\n",
       "245                              Off-Road Bike Route  144.954039 -37.782476   \n",
       "231  Informal Outdoor Facility (Park/Garden/Reserve)  144.972952 -37.820789   \n",
       "5                                 Endurance Training         NaN        NaN   \n",
       "246  Informal Outdoor Facility (Park/Garden/Reserve)  144.981626 -37.841400   \n",
       "1                                 Endurance Training         NaN        NaN   \n",
       "4                                 Endurance Training         NaN        NaN   \n",
       "\n",
       "       id Rating  \n",
       "245  2246      0  \n",
       "231  1232      0  \n",
       "5    3006      0  \n",
       "246  1247      0  \n",
       "1    3002      0  \n",
       "4    3005      0  "
      ]
     },
     "execution_count": 59,
     "metadata": {},
     "output_type": "execute_result"
    }
   ],
   "source": [
    "output_final"
   ]
  },
  {
   "cell_type": "code",
   "execution_count": null,
   "id": "99553517",
   "metadata": {},
   "outputs": [],
   "source": []
  },
  {
   "cell_type": "code",
   "execution_count": null,
   "id": "67c8af78",
   "metadata": {},
   "outputs": [],
   "source": []
  },
  {
   "cell_type": "code",
   "execution_count": null,
   "id": "a7572918",
   "metadata": {},
   "outputs": [],
   "source": []
  },
  {
   "cell_type": "code",
   "execution_count": null,
   "id": "ee013252",
   "metadata": {},
   "outputs": [],
   "source": []
  },
  {
   "cell_type": "code",
   "execution_count": null,
   "id": "9c4502aa",
   "metadata": {},
   "outputs": [],
   "source": []
  },
  {
   "cell_type": "code",
   "execution_count": null,
   "id": "c5556f8e",
   "metadata": {},
   "outputs": [],
   "source": []
  },
  {
   "cell_type": "code",
   "execution_count": null,
   "id": "1ac3204f",
   "metadata": {},
   "outputs": [],
   "source": []
  },
  {
   "cell_type": "code",
   "execution_count": null,
   "id": "17e903f6",
   "metadata": {},
   "outputs": [],
   "source": []
  },
  {
   "cell_type": "code",
   "execution_count": null,
   "id": "b0da4f94",
   "metadata": {},
   "outputs": [],
   "source": []
  },
  {
   "cell_type": "code",
   "execution_count": null,
   "id": "e10fa6b7",
   "metadata": {},
   "outputs": [],
   "source": []
  },
  {
   "cell_type": "code",
   "execution_count": null,
   "id": "765f006a",
   "metadata": {},
   "outputs": [],
   "source": []
  },
  {
   "cell_type": "code",
   "execution_count": 200,
   "id": "f182febc",
   "metadata": {},
   "outputs": [],
   "source": [
    "### TESTING DATASET\n",
    "from random import randint\n",
    "concat[\"Rating\"] = concat.apply(lambda x: randint(0,2), axis=1)\n",
    "concat = concat.drop(['Title'], axis = 1)\n",
    "concat[\"Theme\"] = concat[\"Theme\"].astype('category')\n",
    "concat[\"Sub Theme\"] = concat[\"Sub Theme\"].astype('category')\n",
    "concat[\"Theme\"] = concat[\"Theme\"].cat.codes\n",
    "concat[\"Sub Theme\"] = concat[\"Sub Theme\"].cat.codes\n",
    "train = concat.loc[concat['Rating'] != 0]\n",
    "test = concat.loc[concat['Rating'] == 0]\n",
    "x_train = train.loc[:, train.columns != 'Rating']\n",
    "y_train = train['Rating']\n",
    "x_test = test.loc[:, test.columns != 'Rating']\n",
    "y_test = test['Rating']"
   ]
  },
  {
   "cell_type": "code",
   "execution_count": null,
   "id": "9477b133",
   "metadata": {},
   "outputs": [],
   "source": []
  },
  {
   "cell_type": "code",
   "execution_count": null,
   "id": "1a76ff8e",
   "metadata": {},
   "outputs": [],
   "source": []
  },
  {
   "cell_type": "code",
   "execution_count": null,
   "id": "b8b5486d",
   "metadata": {},
   "outputs": [],
   "source": []
  },
  {
   "cell_type": "code",
   "execution_count": 201,
   "id": "f83be752",
   "metadata": {},
   "outputs": [
    {
     "data": {
      "text/plain": [
       "GaussianNB()"
      ]
     },
     "execution_count": 201,
     "metadata": {},
     "output_type": "execute_result"
    }
   ],
   "source": [
    "from sklearn.naive_bayes import GaussianNB\n",
    "gnb = GaussianNB()\n",
    "gnb.fit(x_train, y_train)"
   ]
  },
  {
   "cell_type": "code",
   "execution_count": 202,
   "id": "7ba43e2b",
   "metadata": {},
   "outputs": [],
   "source": [
    "y_pred = gnb.predict(x_test)"
   ]
  },
  {
   "cell_type": "code",
   "execution_count": 203,
   "id": "731679ff",
   "metadata": {},
   "outputs": [
    {
     "data": {
      "text/plain": [
       "array([1, 2, 1, 1, 1, 2, 2, 1, 1, 2, 1, 1, 2, 2, 2, 2, 2, 2, 2, 2, 2],\n",
       "      dtype=int64)"
      ]
     },
     "execution_count": 203,
     "metadata": {},
     "output_type": "execute_result"
    }
   ],
   "source": [
    "y_pred"
   ]
  },
  {
   "cell_type": "code",
   "execution_count": 351,
   "id": "94ac5010",
   "metadata": {},
   "outputs": [],
   "source": [
    "from sklearn.model_selection import train_test_split\n",
    "concat[\"Rating\"] = concat.apply(lambda x: randint(0,2), axis=1)\n",
    "\n",
    "concat[\"Theme\"] = concat[\"Theme\"].astype('category')\n",
    "d1 = dict(enumerate(concat['Theme'].cat.categories))\n",
    "concat[\"Sub Theme\"] = concat[\"Sub Theme\"].astype('category')\n",
    "d2 = dict(enumerate(concat['Sub Theme'].cat.categories))\n",
    "\n",
    "concat[\"Theme\"] = concat[\"Theme\"].cat.codes\n",
    "concat[\"Sub Theme\"] = concat[\"Sub Theme\"].cat.codes\n",
    "train = concat.loc[concat['Rating'] != 0]\n",
    "train, test = train_test_split(train, test_size = 0.3, random_state = 1)\n",
    "x_train = train.loc[:, ~train.columns.isin(['Rating', 'Title'])]\n",
    "y_train = train['Rating']\n",
    "x_test = test.loc[:, ~test.columns.isin(['Rating', 'Title'])]\n",
    "y_test = test['Rating']"
   ]
  },
  {
   "cell_type": "code",
   "execution_count": 352,
   "id": "b591b578",
   "metadata": {},
   "outputs": [
    {
     "data": {
      "text/plain": [
       "GaussianNB()"
      ]
     },
     "execution_count": 352,
     "metadata": {},
     "output_type": "execute_result"
    }
   ],
   "source": [
    "from sklearn.naive_bayes import GaussianNB\n",
    "gnb = GaussianNB()\n",
    "gnb.fit(x_train, y_train)"
   ]
  },
  {
   "cell_type": "code",
   "execution_count": 353,
   "id": "74e14dc5",
   "metadata": {},
   "outputs": [],
   "source": [
    "y_pred = gnb.predict(x_test)"
   ]
  },
  {
   "cell_type": "code",
   "execution_count": 354,
   "id": "934f6804",
   "metadata": {},
   "outputs": [
    {
     "name": "stdout",
     "output_type": "stream",
     "text": [
      "Gaussian Naive Bayes model accuracy(in %): 30.0\n"
     ]
    }
   ],
   "source": [
    "from sklearn import metrics\n",
    "print(\"Gaussian Naive Bayes model accuracy(in %):\", metrics.accuracy_score(y_test, y_pred)*100)"
   ]
  },
  {
   "cell_type": "code",
   "execution_count": 355,
   "id": "645d0380",
   "metadata": {},
   "outputs": [],
   "source": [
    "train['Rating'] = y_train\n",
    "test['Rating'] = y_pred\n",
    "pred = pd.concat([train, test])\n",
    "pred = pred.loc[pred['Rating'] == 2]\n",
    "pred['Theme'] = pred['Theme'].map(d1)\n",
    "pred['Sub Theme'] = pred['Sub Theme'].map(d2)\n",
    "df_elements = pred.sample(n)"
   ]
  },
  {
   "cell_type": "code",
   "execution_count": 356,
   "id": "938c1d57",
   "metadata": {},
   "outputs": [
    {
     "data": {
      "text/html": [
       "<div>\n",
       "<style scoped>\n",
       "    .dataframe tbody tr th:only-of-type {\n",
       "        vertical-align: middle;\n",
       "    }\n",
       "\n",
       "    .dataframe tbody tr th {\n",
       "        vertical-align: top;\n",
       "    }\n",
       "\n",
       "    .dataframe thead th {\n",
       "        text-align: right;\n",
       "    }\n",
       "</style>\n",
       "<table border=\"1\" class=\"dataframe\">\n",
       "  <thead>\n",
       "    <tr style=\"text-align: right;\">\n",
       "      <th></th>\n",
       "      <th>Title</th>\n",
       "      <th>Theme</th>\n",
       "      <th>Sub Theme</th>\n",
       "      <th>Latitude</th>\n",
       "      <th>Longitude</th>\n",
       "      <th>Green Space</th>\n",
       "      <th>id</th>\n",
       "      <th>Walking</th>\n",
       "      <th>Cardio</th>\n",
       "      <th>Sightseeing</th>\n",
       "      <th>Rating</th>\n",
       "    </tr>\n",
       "  </thead>\n",
       "  <tbody>\n",
       "    <tr>\n",
       "      <th>230</th>\n",
       "      <td>Artplay</td>\n",
       "      <td>Leisure/Recreation</td>\n",
       "      <td>Indoor Recreation Facility</td>\n",
       "      <td>144.971543</td>\n",
       "      <td>-37.818420</td>\n",
       "      <td>True</td>\n",
       "      <td>1231</td>\n",
       "      <td>False</td>\n",
       "      <td>True</td>\n",
       "      <td>False</td>\n",
       "      <td>2</td>\n",
       "    </tr>\n",
       "    <tr>\n",
       "      <th>221</th>\n",
       "      <td>Newmarket Reserve</td>\n",
       "      <td>Leisure/Recreation</td>\n",
       "      <td>Informal Outdoor Facility (Park/Garden/Reserve)</td>\n",
       "      <td>144.922972</td>\n",
       "      <td>-37.787847</td>\n",
       "      <td>True</td>\n",
       "      <td>1222</td>\n",
       "      <td>True</td>\n",
       "      <td>False</td>\n",
       "      <td>False</td>\n",
       "      <td>2</td>\n",
       "    </tr>\n",
       "    <tr>\n",
       "      <th>194</th>\n",
       "      <td>Carlton Gardens South</td>\n",
       "      <td>Leisure/Recreation</td>\n",
       "      <td>Informal Outdoor Facility (Park/Garden/Reserve)</td>\n",
       "      <td>144.971266</td>\n",
       "      <td>-37.806068</td>\n",
       "      <td>True</td>\n",
       "      <td>1195</td>\n",
       "      <td>True</td>\n",
       "      <td>False</td>\n",
       "      <td>False</td>\n",
       "      <td>2</td>\n",
       "    </tr>\n",
       "    <tr>\n",
       "      <th>263</th>\n",
       "      <td>City Baths</td>\n",
       "      <td>Leisure/Recreation</td>\n",
       "      <td>Major Sports &amp; Recreation Facility</td>\n",
       "      <td>144.963190</td>\n",
       "      <td>-37.807159</td>\n",
       "      <td>True</td>\n",
       "      <td>1264</td>\n",
       "      <td>False</td>\n",
       "      <td>True</td>\n",
       "      <td>False</td>\n",
       "      <td>2</td>\n",
       "    </tr>\n",
       "  </tbody>\n",
       "</table>\n",
       "</div>"
      ],
      "text/plain": [
       "                     Title               Theme  \\\n",
       "230                Artplay  Leisure/Recreation   \n",
       "221      Newmarket Reserve  Leisure/Recreation   \n",
       "194  Carlton Gardens South  Leisure/Recreation   \n",
       "263             City Baths  Leisure/Recreation   \n",
       "\n",
       "                                           Sub Theme    Latitude  Longitude  \\\n",
       "230                       Indoor Recreation Facility  144.971543 -37.818420   \n",
       "221  Informal Outdoor Facility (Park/Garden/Reserve)  144.922972 -37.787847   \n",
       "194  Informal Outdoor Facility (Park/Garden/Reserve)  144.971266 -37.806068   \n",
       "263               Major Sports & Recreation Facility  144.963190 -37.807159   \n",
       "\n",
       "    Green Space    id Walking Cardio Sightseeing  Rating  \n",
       "230        True  1231   False   True       False       2  \n",
       "221        True  1222    True  False       False       2  \n",
       "194        True  1195    True  False       False       2  \n",
       "263        True  1264   False   True       False       2  "
      ]
     },
     "execution_count": 356,
     "metadata": {},
     "output_type": "execute_result"
    }
   ],
   "source": [
    "df_elements"
   ]
  },
  {
   "cell_type": "code",
   "execution_count": 357,
   "id": "d08bb8c5",
   "metadata": {},
   "outputs": [
    {
     "data": {
      "text/plain": [
       "{0: 'Leisure/Recreation'}"
      ]
     },
     "execution_count": 357,
     "metadata": {},
     "output_type": "execute_result"
    }
   ],
   "source": [
    "d1"
   ]
  },
  {
   "cell_type": "code",
   "execution_count": 60,
   "id": "681c75b0",
   "metadata": {},
   "outputs": [
    {
     "name": "stdout",
     "output_type": "stream",
     "text": [
      "Collecting mariadb\n",
      "  Downloading mariadb-1.1.4-cp39-cp39-win_amd64.whl (191 kB)\n",
      "Installing collected packages: mariadb\n",
      "Successfully installed mariadb-1.1.4\n"
     ]
    }
   ],
   "source": [
    "!pip install mariadb"
   ]
  },
  {
   "cell_type": "code",
   "execution_count": 107,
   "id": "0bfa41a7",
   "metadata": {},
   "outputs": [],
   "source": [
    "import pymysql\n",
    "# !pip install pymysql"
   ]
  },
  {
   "cell_type": "code",
   "execution_count": 244,
   "id": "c6c91129",
   "metadata": {},
   "outputs": [],
   "source": [
    "conn = pymysql.connect(\n",
    "        user=\"sittofit\",\n",
    "        password=\"0AxPzbedoJFNTfPj67Pr\",\n",
    "        host=\"db.sittofit.tk\",\n",
    "        port=3306,\n",
    "        database=\"sittofit\",\n",
    "        cursorclass = pymysql.cursors.DictCursor)"
   ]
  },
  {
   "cell_type": "code",
   "execution_count": 245,
   "id": "91e5e268",
   "metadata": {},
   "outputs": [],
   "source": [
    "cursorObject = conn.cursor() "
   ]
  },
  {
   "cell_type": "code",
   "execution_count": 122,
   "id": "62ac0c55",
   "metadata": {},
   "outputs": [],
   "source": [
    "SQL_Query = \"create table user_pref (web_id int, pref varchar(255))\""
   ]
  },
  {
   "cell_type": "code",
   "execution_count": 114,
   "id": "1e0412d2",
   "metadata": {},
   "outputs": [],
   "source": [
    "df = pd.DataFrame(SQL_Query, columns=['sit', 'phy', 'val'])"
   ]
  },
  {
   "cell_type": "code",
   "execution_count": 128,
   "id": "425acb85",
   "metadata": {},
   "outputs": [
    {
     "data": {
      "text/plain": [
       "0"
      ]
     },
     "execution_count": 128,
     "metadata": {},
     "output_type": "execute_result"
    }
   ],
   "source": [
    "cursorObject.execute(SQL_Query)"
   ]
  },
  {
   "cell_type": "code",
   "execution_count": 116,
   "id": "22ce4846",
   "metadata": {},
   "outputs": [],
   "source": [
    "out = df.to_json(orient='records')[1:-1].replace('},{', '} {')"
   ]
  },
  {
   "cell_type": "code",
   "execution_count": 129,
   "id": "e8b77fd1",
   "metadata": {},
   "outputs": [],
   "source": [
    "sqlQuery = \"show tables\""
   ]
  },
  {
   "cell_type": "code",
   "execution_count": 130,
   "id": "78f1660c",
   "metadata": {},
   "outputs": [
    {
     "data": {
      "text/plain": [
       "3"
      ]
     },
     "execution_count": 130,
     "metadata": {},
     "output_type": "execute_result"
    }
   ],
   "source": [
    "cursorObject.execute(sqlQuery)"
   ]
  },
  {
   "cell_type": "code",
   "execution_count": 131,
   "id": "b84cc996",
   "metadata": {},
   "outputs": [
    {
     "data": {
      "text/html": [
       "<div>\n",
       "<style scoped>\n",
       "    .dataframe tbody tr th:only-of-type {\n",
       "        vertical-align: middle;\n",
       "    }\n",
       "\n",
       "    .dataframe tbody tr th {\n",
       "        vertical-align: top;\n",
       "    }\n",
       "\n",
       "    .dataframe thead th {\n",
       "        text-align: right;\n",
       "    }\n",
       "</style>\n",
       "<table border=\"1\" class=\"dataframe\">\n",
       "  <thead>\n",
       "    <tr style=\"text-align: right;\">\n",
       "      <th></th>\n",
       "      <th>sit</th>\n",
       "      <th>phy</th>\n",
       "      <th>val</th>\n",
       "    </tr>\n",
       "  </thead>\n",
       "  <tbody>\n",
       "    <tr>\n",
       "      <th>0</th>\n",
       "      <td>0</td>\n",
       "      <td>0</td>\n",
       "      <td>0.005800</td>\n",
       "    </tr>\n",
       "    <tr>\n",
       "      <th>1</th>\n",
       "      <td>0</td>\n",
       "      <td>1</td>\n",
       "      <td>0.115400</td>\n",
       "    </tr>\n",
       "    <tr>\n",
       "      <th>2</th>\n",
       "      <td>0</td>\n",
       "      <td>2</td>\n",
       "      <td>0.121200</td>\n",
       "    </tr>\n",
       "    <tr>\n",
       "      <th>3</th>\n",
       "      <td>0</td>\n",
       "      <td>3</td>\n",
       "      <td>0.196200</td>\n",
       "    </tr>\n",
       "    <tr>\n",
       "      <th>4</th>\n",
       "      <td>0</td>\n",
       "      <td>4</td>\n",
       "      <td>0.253900</td>\n",
       "    </tr>\n",
       "    <tr>\n",
       "      <th>...</th>\n",
       "      <td>...</td>\n",
       "      <td>...</td>\n",
       "      <td>...</td>\n",
       "    </tr>\n",
       "    <tr>\n",
       "      <th>164</th>\n",
       "      <td>12</td>\n",
       "      <td>8</td>\n",
       "      <td>9.583512</td>\n",
       "    </tr>\n",
       "    <tr>\n",
       "      <th>165</th>\n",
       "      <td>12</td>\n",
       "      <td>9</td>\n",
       "      <td>9.641751</td>\n",
       "    </tr>\n",
       "    <tr>\n",
       "      <th>166</th>\n",
       "      <td>12</td>\n",
       "      <td>10</td>\n",
       "      <td>9.699990</td>\n",
       "    </tr>\n",
       "    <tr>\n",
       "      <th>167</th>\n",
       "      <td>12</td>\n",
       "      <td>11</td>\n",
       "      <td>9.758229</td>\n",
       "    </tr>\n",
       "    <tr>\n",
       "      <th>168</th>\n",
       "      <td>12</td>\n",
       "      <td>12</td>\n",
       "      <td>9.816468</td>\n",
       "    </tr>\n",
       "  </tbody>\n",
       "</table>\n",
       "<p>169 rows × 3 columns</p>\n",
       "</div>"
      ],
      "text/plain": [
       "     sit  phy       val\n",
       "0      0    0  0.005800\n",
       "1      0    1  0.115400\n",
       "2      0    2  0.121200\n",
       "3      0    3  0.196200\n",
       "4      0    4  0.253900\n",
       "..   ...  ...       ...\n",
       "164   12    8  9.583512\n",
       "165   12    9  9.641751\n",
       "166   12   10  9.699990\n",
       "167   12   11  9.758229\n",
       "168   12   12  9.816468\n",
       "\n",
       "[169 rows x 3 columns]"
      ]
     },
     "execution_count": 131,
     "metadata": {},
     "output_type": "execute_result"
    }
   ],
   "source": []
  },
  {
   "cell_type": "code",
   "execution_count": 218,
   "id": "3e7b27be",
   "metadata": {},
   "outputs": [],
   "source": [
    "dict = {'web_id': 1001, 'preference': 'Cycling'}"
   ]
  },
  {
   "cell_type": "code",
   "execution_count": 157,
   "id": "1cb3afd0",
   "metadata": {},
   "outputs": [],
   "source": [
    "df = pd.DataFrame(dict.items(), columns = ['web_id', 'pref'])"
   ]
  },
  {
   "cell_type": "code",
   "execution_count": 219,
   "id": "a004d776",
   "metadata": {},
   "outputs": [],
   "source": [
    "df = pd.DataFrame([dict])"
   ]
  },
  {
   "cell_type": "code",
   "execution_count": 221,
   "id": "b8aa33ec",
   "metadata": {},
   "outputs": [
    {
     "data": {
      "text/html": [
       "<div>\n",
       "<style scoped>\n",
       "    .dataframe tbody tr th:only-of-type {\n",
       "        vertical-align: middle;\n",
       "    }\n",
       "\n",
       "    .dataframe tbody tr th {\n",
       "        vertical-align: top;\n",
       "    }\n",
       "\n",
       "    .dataframe thead th {\n",
       "        text-align: right;\n",
       "    }\n",
       "</style>\n",
       "<table border=\"1\" class=\"dataframe\">\n",
       "  <thead>\n",
       "    <tr style=\"text-align: right;\">\n",
       "      <th></th>\n",
       "      <th>web_id</th>\n",
       "      <th>preference</th>\n",
       "    </tr>\n",
       "  </thead>\n",
       "  <tbody>\n",
       "    <tr>\n",
       "      <th>0</th>\n",
       "      <td>1001</td>\n",
       "      <td>Cycling</td>\n",
       "    </tr>\n",
       "  </tbody>\n",
       "</table>\n",
       "</div>"
      ],
      "text/plain": [
       "   web_id preference\n",
       "0    1001    Cycling"
      ]
     },
     "execution_count": 221,
     "metadata": {},
     "output_type": "execute_result"
    }
   ],
   "source": [
    "df"
   ]
  },
  {
   "cell_type": "code",
   "execution_count": 209,
   "id": "d77a0d0d",
   "metadata": {},
   "outputs": [
    {
     "data": {
      "text/plain": [
       "0"
      ]
     },
     "execution_count": 209,
     "metadata": {},
     "output_type": "execute_result"
    }
   ],
   "source": [
    "cursorObject.execute(d)\n",
    "# conn.commit()"
   ]
  },
  {
   "cell_type": "code",
   "execution_count": 189,
   "id": "1395ee5b",
   "metadata": {},
   "outputs": [],
   "source": [
    "d = '''INSERT INTO user_pref (web_id,pref) values (%s, %s)'''\n",
    "val = (df[\"web_id\"][0], df[\"preference\"][0]) "
   ]
  },
  {
   "cell_type": "code",
   "execution_count": 184,
   "id": "5f8b3eb5",
   "metadata": {},
   "outputs": [
    {
     "data": {
      "text/plain": [
       "'INSERT INTO user_pref (web_id,pref) values (%s, %s)'"
      ]
     },
     "execution_count": 184,
     "metadata": {},
     "output_type": "execute_result"
    }
   ],
   "source": [
    "d"
   ]
  },
  {
   "cell_type": "code",
   "execution_count": 180,
   "id": "b25fa924",
   "metadata": {},
   "outputs": [
    {
     "data": {
      "text/plain": [
       "(1001, 'Cycling')"
      ]
     },
     "execution_count": 180,
     "metadata": {},
     "output_type": "execute_result"
    }
   ],
   "source": [
    "val"
   ]
  },
  {
   "cell_type": "code",
   "execution_count": 208,
   "id": "59211bcc",
   "metadata": {},
   "outputs": [],
   "source": [
    "d = '''create table user_pref (web_id int, pref varchar(50) , CONSTRAINT web PRIMARY KEY (web_id))'''"
   ]
  },
  {
   "cell_type": "code",
   "execution_count": 246,
   "id": "67bef6bd",
   "metadata": {},
   "outputs": [],
   "source": [
    "# cursorObject.execute('''select * from user_pref''')\n",
    "df = pd.read_sql('''select * from user_pref''', conn)"
   ]
  },
  {
   "cell_type": "code",
   "execution_count": 234,
   "id": "161f916c",
   "metadata": {},
   "outputs": [],
   "source": [
    "# df = pd.DataFrame(list(dict.items()), columns=['web_id', 'pref'])"
   ]
  },
  {
   "cell_type": "code",
   "execution_count": 258,
   "id": "214157b7",
   "metadata": {},
   "outputs": [
    {
     "data": {
      "text/html": [
       "<div>\n",
       "<style scoped>\n",
       "    .dataframe tbody tr th:only-of-type {\n",
       "        vertical-align: middle;\n",
       "    }\n",
       "\n",
       "    .dataframe tbody tr th {\n",
       "        vertical-align: top;\n",
       "    }\n",
       "\n",
       "    .dataframe thead th {\n",
       "        text-align: right;\n",
       "    }\n",
       "</style>\n",
       "<table border=\"1\" class=\"dataframe\">\n",
       "  <thead>\n",
       "    <tr style=\"text-align: right;\">\n",
       "      <th></th>\n",
       "      <th>web_id</th>\n",
       "      <th>pref</th>\n",
       "    </tr>\n",
       "  </thead>\n",
       "  <tbody>\n",
       "    <tr>\n",
       "      <th>0</th>\n",
       "      <td>10001</td>\n",
       "      <td>Cycling</td>\n",
       "    </tr>\n",
       "    <tr>\n",
       "      <th>1</th>\n",
       "      <td>12001</td>\n",
       "      <td>Cycling</td>\n",
       "    </tr>\n",
       "  </tbody>\n",
       "</table>\n",
       "</div>"
      ],
      "text/plain": [
       "   web_id     pref\n",
       "0   10001  Cycling\n",
       "1   12001  Cycling"
      ]
     },
     "execution_count": 258,
     "metadata": {},
     "output_type": "execute_result"
    }
   ],
   "source": [
    "df"
   ]
  },
  {
   "cell_type": "code",
   "execution_count": 250,
   "id": "46ec8710",
   "metadata": {},
   "outputs": [],
   "source": [
    "#df = pd.read_sql('''select * from user_pref''', conn)"
   ]
  },
  {
   "cell_type": "code",
   "execution_count": 256,
   "id": "d14480c5",
   "metadata": {},
   "outputs": [
    {
     "name": "stdout",
     "output_type": "stream",
     "text": [
      "yup\n"
     ]
    }
   ],
   "source": [
    "if 10001 in df['web_id'].values:\n",
    "    print('yup')\n",
    "else:\n",
    "    print('nop')"
   ]
  },
  {
   "cell_type": "code",
   "execution_count": 269,
   "id": "56836bc3",
   "metadata": {},
   "outputs": [],
   "source": [
    "d2 = '''UPDATE user_pref set pref = %s where web_id = %s'''\n",
    "val2 = (df[\"pref\"][0], df[\"web_id\"][0])"
   ]
  },
  {
   "cell_type": "code",
   "execution_count": 270,
   "id": "4b93c12d",
   "metadata": {},
   "outputs": [
    {
     "data": {
      "text/plain": [
       "('Cycling', 10001)"
      ]
     },
     "execution_count": 270,
     "metadata": {},
     "output_type": "execute_result"
    }
   ],
   "source": [
    "val2"
   ]
  },
  {
   "cell_type": "code",
   "execution_count": 271,
   "id": "6fabeef3",
   "metadata": {},
   "outputs": [],
   "source": [
    "cursorObject.execute(d2, val2)\n",
    "conn.commit()"
   ]
  },
  {
   "cell_type": "code",
   "execution_count": 272,
   "id": "c1241c3a",
   "metadata": {},
   "outputs": [],
   "source": [
    "q = '''create table user_rating (web_id int, iid int, rating int, CONSTRAINT pks PRIMARY KEY (web_id, iid))'''\n",
    "cursorObject.execute(q)"
   ]
  },
  {
   "cell_type": "code",
   "execution_count": 274,
   "id": "a2aa9328",
   "metadata": {},
   "outputs": [],
   "source": [
    "ratings = {'web_id': 12001, 'iid': 1002, 'rating': 1}\n",
    "df = pd.DataFrame([ratings])"
   ]
  },
  {
   "cell_type": "code",
   "execution_count": 283,
   "id": "b15c8a6e",
   "metadata": {},
   "outputs": [],
   "source": [
    "d1 = '''INSERT INTO user_pref (web_id, iid, rating) values (%s, %s, %s)'''\n",
    "val1 = (df[\"web_id\"][0], df[\"iid\"][0], df['rating'][0])\n"
   ]
  },
  {
   "cell_type": "code",
   "execution_count": 284,
   "id": "3c2f36e8",
   "metadata": {},
   "outputs": [
    {
     "data": {
      "text/plain": [
       "1"
      ]
     },
     "execution_count": 284,
     "metadata": {},
     "output_type": "execute_result"
    }
   ],
   "source": [
    "df['rating'][0]"
   ]
  },
  {
   "cell_type": "code",
   "execution_count": 287,
   "id": "d6bbf0cc",
   "metadata": {},
   "outputs": [
    {
     "ename": "OperationalError",
     "evalue": "(1054, \"Unknown column 'rating' in 'field list'\")",
     "output_type": "error",
     "traceback": [
      "\u001b[1;31m---------------------------------------------------------------------------\u001b[0m",
      "\u001b[1;31mOperationalError\u001b[0m                          Traceback (most recent call last)",
      "\u001b[1;32m~\\AppData\\Local\\Temp/ipykernel_4352/1658409364.py\u001b[0m in \u001b[0;36m<module>\u001b[1;34m\u001b[0m\n\u001b[1;32m----> 1\u001b[1;33m \u001b[0mcursorObject\u001b[0m\u001b[1;33m.\u001b[0m\u001b[0mexecute\u001b[0m\u001b[1;33m(\u001b[0m\u001b[1;34m'''INSERT INTO user_pref (web_id, rating) values (%s, %s)'''\u001b[0m\u001b[1;33m,\u001b[0m \u001b[1;33m(\u001b[0m\u001b[0mdf\u001b[0m\u001b[1;33m[\u001b[0m\u001b[1;34m\"web_id\"\u001b[0m\u001b[1;33m]\u001b[0m\u001b[1;33m[\u001b[0m\u001b[1;36m0\u001b[0m\u001b[1;33m]\u001b[0m\u001b[1;33m,\u001b[0m \u001b[0mdf\u001b[0m\u001b[1;33m[\u001b[0m\u001b[1;34m'rating'\u001b[0m\u001b[1;33m]\u001b[0m\u001b[1;33m[\u001b[0m\u001b[1;36m0\u001b[0m\u001b[1;33m]\u001b[0m\u001b[1;33m)\u001b[0m\u001b[1;33m)\u001b[0m\u001b[1;33m\u001b[0m\u001b[1;33m\u001b[0m\u001b[0m\n\u001b[0m\u001b[0;32m      2\u001b[0m \u001b[0mconn\u001b[0m\u001b[1;33m.\u001b[0m\u001b[0mcommit\u001b[0m\u001b[1;33m(\u001b[0m\u001b[1;33m)\u001b[0m\u001b[1;33m\u001b[0m\u001b[1;33m\u001b[0m\u001b[0m\n",
      "\u001b[1;32m~\\anaconda3\\lib\\site-packages\\pymysql\\cursors.py\u001b[0m in \u001b[0;36mexecute\u001b[1;34m(self, query, args)\u001b[0m\n\u001b[0;32m    146\u001b[0m         \u001b[0mquery\u001b[0m \u001b[1;33m=\u001b[0m \u001b[0mself\u001b[0m\u001b[1;33m.\u001b[0m\u001b[0mmogrify\u001b[0m\u001b[1;33m(\u001b[0m\u001b[0mquery\u001b[0m\u001b[1;33m,\u001b[0m \u001b[0margs\u001b[0m\u001b[1;33m)\u001b[0m\u001b[1;33m\u001b[0m\u001b[1;33m\u001b[0m\u001b[0m\n\u001b[0;32m    147\u001b[0m \u001b[1;33m\u001b[0m\u001b[0m\n\u001b[1;32m--> 148\u001b[1;33m         \u001b[0mresult\u001b[0m \u001b[1;33m=\u001b[0m \u001b[0mself\u001b[0m\u001b[1;33m.\u001b[0m\u001b[0m_query\u001b[0m\u001b[1;33m(\u001b[0m\u001b[0mquery\u001b[0m\u001b[1;33m)\u001b[0m\u001b[1;33m\u001b[0m\u001b[1;33m\u001b[0m\u001b[0m\n\u001b[0m\u001b[0;32m    149\u001b[0m         \u001b[0mself\u001b[0m\u001b[1;33m.\u001b[0m\u001b[0m_executed\u001b[0m \u001b[1;33m=\u001b[0m \u001b[0mquery\u001b[0m\u001b[1;33m\u001b[0m\u001b[1;33m\u001b[0m\u001b[0m\n\u001b[0;32m    150\u001b[0m         \u001b[1;32mreturn\u001b[0m \u001b[0mresult\u001b[0m\u001b[1;33m\u001b[0m\u001b[1;33m\u001b[0m\u001b[0m\n",
      "\u001b[1;32m~\\anaconda3\\lib\\site-packages\\pymysql\\cursors.py\u001b[0m in \u001b[0;36m_query\u001b[1;34m(self, q)\u001b[0m\n\u001b[0;32m    308\u001b[0m         \u001b[0mself\u001b[0m\u001b[1;33m.\u001b[0m\u001b[0m_last_executed\u001b[0m \u001b[1;33m=\u001b[0m \u001b[0mq\u001b[0m\u001b[1;33m\u001b[0m\u001b[1;33m\u001b[0m\u001b[0m\n\u001b[0;32m    309\u001b[0m         \u001b[0mself\u001b[0m\u001b[1;33m.\u001b[0m\u001b[0m_clear_result\u001b[0m\u001b[1;33m(\u001b[0m\u001b[1;33m)\u001b[0m\u001b[1;33m\u001b[0m\u001b[1;33m\u001b[0m\u001b[0m\n\u001b[1;32m--> 310\u001b[1;33m         \u001b[0mconn\u001b[0m\u001b[1;33m.\u001b[0m\u001b[0mquery\u001b[0m\u001b[1;33m(\u001b[0m\u001b[0mq\u001b[0m\u001b[1;33m)\u001b[0m\u001b[1;33m\u001b[0m\u001b[1;33m\u001b[0m\u001b[0m\n\u001b[0m\u001b[0;32m    311\u001b[0m         \u001b[0mself\u001b[0m\u001b[1;33m.\u001b[0m\u001b[0m_do_get_result\u001b[0m\u001b[1;33m(\u001b[0m\u001b[1;33m)\u001b[0m\u001b[1;33m\u001b[0m\u001b[1;33m\u001b[0m\u001b[0m\n\u001b[0;32m    312\u001b[0m         \u001b[1;32mreturn\u001b[0m \u001b[0mself\u001b[0m\u001b[1;33m.\u001b[0m\u001b[0mrowcount\u001b[0m\u001b[1;33m\u001b[0m\u001b[1;33m\u001b[0m\u001b[0m\n",
      "\u001b[1;32m~\\anaconda3\\lib\\site-packages\\pymysql\\connections.py\u001b[0m in \u001b[0;36mquery\u001b[1;34m(self, sql, unbuffered)\u001b[0m\n\u001b[0;32m    546\u001b[0m             \u001b[0msql\u001b[0m \u001b[1;33m=\u001b[0m \u001b[0msql\u001b[0m\u001b[1;33m.\u001b[0m\u001b[0mencode\u001b[0m\u001b[1;33m(\u001b[0m\u001b[0mself\u001b[0m\u001b[1;33m.\u001b[0m\u001b[0mencoding\u001b[0m\u001b[1;33m,\u001b[0m \u001b[1;34m\"surrogateescape\"\u001b[0m\u001b[1;33m)\u001b[0m\u001b[1;33m\u001b[0m\u001b[1;33m\u001b[0m\u001b[0m\n\u001b[0;32m    547\u001b[0m         \u001b[0mself\u001b[0m\u001b[1;33m.\u001b[0m\u001b[0m_execute_command\u001b[0m\u001b[1;33m(\u001b[0m\u001b[0mCOMMAND\u001b[0m\u001b[1;33m.\u001b[0m\u001b[0mCOM_QUERY\u001b[0m\u001b[1;33m,\u001b[0m \u001b[0msql\u001b[0m\u001b[1;33m)\u001b[0m\u001b[1;33m\u001b[0m\u001b[1;33m\u001b[0m\u001b[0m\n\u001b[1;32m--> 548\u001b[1;33m         \u001b[0mself\u001b[0m\u001b[1;33m.\u001b[0m\u001b[0m_affected_rows\u001b[0m \u001b[1;33m=\u001b[0m \u001b[0mself\u001b[0m\u001b[1;33m.\u001b[0m\u001b[0m_read_query_result\u001b[0m\u001b[1;33m(\u001b[0m\u001b[0munbuffered\u001b[0m\u001b[1;33m=\u001b[0m\u001b[0munbuffered\u001b[0m\u001b[1;33m)\u001b[0m\u001b[1;33m\u001b[0m\u001b[1;33m\u001b[0m\u001b[0m\n\u001b[0m\u001b[0;32m    549\u001b[0m         \u001b[1;32mreturn\u001b[0m \u001b[0mself\u001b[0m\u001b[1;33m.\u001b[0m\u001b[0m_affected_rows\u001b[0m\u001b[1;33m\u001b[0m\u001b[1;33m\u001b[0m\u001b[0m\n\u001b[0;32m    550\u001b[0m \u001b[1;33m\u001b[0m\u001b[0m\n",
      "\u001b[1;32m~\\anaconda3\\lib\\site-packages\\pymysql\\connections.py\u001b[0m in \u001b[0;36m_read_query_result\u001b[1;34m(self, unbuffered)\u001b[0m\n\u001b[0;32m    773\u001b[0m         \u001b[1;32melse\u001b[0m\u001b[1;33m:\u001b[0m\u001b[1;33m\u001b[0m\u001b[1;33m\u001b[0m\u001b[0m\n\u001b[0;32m    774\u001b[0m             \u001b[0mresult\u001b[0m \u001b[1;33m=\u001b[0m \u001b[0mMySQLResult\u001b[0m\u001b[1;33m(\u001b[0m\u001b[0mself\u001b[0m\u001b[1;33m)\u001b[0m\u001b[1;33m\u001b[0m\u001b[1;33m\u001b[0m\u001b[0m\n\u001b[1;32m--> 775\u001b[1;33m             \u001b[0mresult\u001b[0m\u001b[1;33m.\u001b[0m\u001b[0mread\u001b[0m\u001b[1;33m(\u001b[0m\u001b[1;33m)\u001b[0m\u001b[1;33m\u001b[0m\u001b[1;33m\u001b[0m\u001b[0m\n\u001b[0m\u001b[0;32m    776\u001b[0m         \u001b[0mself\u001b[0m\u001b[1;33m.\u001b[0m\u001b[0m_result\u001b[0m \u001b[1;33m=\u001b[0m \u001b[0mresult\u001b[0m\u001b[1;33m\u001b[0m\u001b[1;33m\u001b[0m\u001b[0m\n\u001b[0;32m    777\u001b[0m         \u001b[1;32mif\u001b[0m \u001b[0mresult\u001b[0m\u001b[1;33m.\u001b[0m\u001b[0mserver_status\u001b[0m \u001b[1;32mis\u001b[0m \u001b[1;32mnot\u001b[0m \u001b[1;32mNone\u001b[0m\u001b[1;33m:\u001b[0m\u001b[1;33m\u001b[0m\u001b[1;33m\u001b[0m\u001b[0m\n",
      "\u001b[1;32m~\\anaconda3\\lib\\site-packages\\pymysql\\connections.py\u001b[0m in \u001b[0;36mread\u001b[1;34m(self)\u001b[0m\n\u001b[0;32m   1154\u001b[0m     \u001b[1;32mdef\u001b[0m \u001b[0mread\u001b[0m\u001b[1;33m(\u001b[0m\u001b[0mself\u001b[0m\u001b[1;33m)\u001b[0m\u001b[1;33m:\u001b[0m\u001b[1;33m\u001b[0m\u001b[1;33m\u001b[0m\u001b[0m\n\u001b[0;32m   1155\u001b[0m         \u001b[1;32mtry\u001b[0m\u001b[1;33m:\u001b[0m\u001b[1;33m\u001b[0m\u001b[1;33m\u001b[0m\u001b[0m\n\u001b[1;32m-> 1156\u001b[1;33m             \u001b[0mfirst_packet\u001b[0m \u001b[1;33m=\u001b[0m \u001b[0mself\u001b[0m\u001b[1;33m.\u001b[0m\u001b[0mconnection\u001b[0m\u001b[1;33m.\u001b[0m\u001b[0m_read_packet\u001b[0m\u001b[1;33m(\u001b[0m\u001b[1;33m)\u001b[0m\u001b[1;33m\u001b[0m\u001b[1;33m\u001b[0m\u001b[0m\n\u001b[0m\u001b[0;32m   1157\u001b[0m \u001b[1;33m\u001b[0m\u001b[0m\n\u001b[0;32m   1158\u001b[0m             \u001b[1;32mif\u001b[0m \u001b[0mfirst_packet\u001b[0m\u001b[1;33m.\u001b[0m\u001b[0mis_ok_packet\u001b[0m\u001b[1;33m(\u001b[0m\u001b[1;33m)\u001b[0m\u001b[1;33m:\u001b[0m\u001b[1;33m\u001b[0m\u001b[1;33m\u001b[0m\u001b[0m\n",
      "\u001b[1;32m~\\anaconda3\\lib\\site-packages\\pymysql\\connections.py\u001b[0m in \u001b[0;36m_read_packet\u001b[1;34m(self, packet_type)\u001b[0m\n\u001b[0;32m    723\u001b[0m             \u001b[1;32mif\u001b[0m \u001b[0mself\u001b[0m\u001b[1;33m.\u001b[0m\u001b[0m_result\u001b[0m \u001b[1;32mis\u001b[0m \u001b[1;32mnot\u001b[0m \u001b[1;32mNone\u001b[0m \u001b[1;32mand\u001b[0m \u001b[0mself\u001b[0m\u001b[1;33m.\u001b[0m\u001b[0m_result\u001b[0m\u001b[1;33m.\u001b[0m\u001b[0munbuffered_active\u001b[0m \u001b[1;32mis\u001b[0m \u001b[1;32mTrue\u001b[0m\u001b[1;33m:\u001b[0m\u001b[1;33m\u001b[0m\u001b[1;33m\u001b[0m\u001b[0m\n\u001b[0;32m    724\u001b[0m                 \u001b[0mself\u001b[0m\u001b[1;33m.\u001b[0m\u001b[0m_result\u001b[0m\u001b[1;33m.\u001b[0m\u001b[0munbuffered_active\u001b[0m \u001b[1;33m=\u001b[0m \u001b[1;32mFalse\u001b[0m\u001b[1;33m\u001b[0m\u001b[1;33m\u001b[0m\u001b[0m\n\u001b[1;32m--> 725\u001b[1;33m             \u001b[0mpacket\u001b[0m\u001b[1;33m.\u001b[0m\u001b[0mraise_for_error\u001b[0m\u001b[1;33m(\u001b[0m\u001b[1;33m)\u001b[0m\u001b[1;33m\u001b[0m\u001b[1;33m\u001b[0m\u001b[0m\n\u001b[0m\u001b[0;32m    726\u001b[0m         \u001b[1;32mreturn\u001b[0m \u001b[0mpacket\u001b[0m\u001b[1;33m\u001b[0m\u001b[1;33m\u001b[0m\u001b[0m\n\u001b[0;32m    727\u001b[0m \u001b[1;33m\u001b[0m\u001b[0m\n",
      "\u001b[1;32m~\\anaconda3\\lib\\site-packages\\pymysql\\protocol.py\u001b[0m in \u001b[0;36mraise_for_error\u001b[1;34m(self)\u001b[0m\n\u001b[0;32m    219\u001b[0m         \u001b[1;32mif\u001b[0m \u001b[0mDEBUG\u001b[0m\u001b[1;33m:\u001b[0m\u001b[1;33m\u001b[0m\u001b[1;33m\u001b[0m\u001b[0m\n\u001b[0;32m    220\u001b[0m             \u001b[0mprint\u001b[0m\u001b[1;33m(\u001b[0m\u001b[1;34m\"errno =\"\u001b[0m\u001b[1;33m,\u001b[0m \u001b[0merrno\u001b[0m\u001b[1;33m)\u001b[0m\u001b[1;33m\u001b[0m\u001b[1;33m\u001b[0m\u001b[0m\n\u001b[1;32m--> 221\u001b[1;33m         \u001b[0merr\u001b[0m\u001b[1;33m.\u001b[0m\u001b[0mraise_mysql_exception\u001b[0m\u001b[1;33m(\u001b[0m\u001b[0mself\u001b[0m\u001b[1;33m.\u001b[0m\u001b[0m_data\u001b[0m\u001b[1;33m)\u001b[0m\u001b[1;33m\u001b[0m\u001b[1;33m\u001b[0m\u001b[0m\n\u001b[0m\u001b[0;32m    222\u001b[0m \u001b[1;33m\u001b[0m\u001b[0m\n\u001b[0;32m    223\u001b[0m     \u001b[1;32mdef\u001b[0m \u001b[0mdump\u001b[0m\u001b[1;33m(\u001b[0m\u001b[0mself\u001b[0m\u001b[1;33m)\u001b[0m\u001b[1;33m:\u001b[0m\u001b[1;33m\u001b[0m\u001b[1;33m\u001b[0m\u001b[0m\n",
      "\u001b[1;32m~\\anaconda3\\lib\\site-packages\\pymysql\\err.py\u001b[0m in \u001b[0;36mraise_mysql_exception\u001b[1;34m(data)\u001b[0m\n\u001b[0;32m    141\u001b[0m     \u001b[1;32mif\u001b[0m \u001b[0merrorclass\u001b[0m \u001b[1;32mis\u001b[0m \u001b[1;32mNone\u001b[0m\u001b[1;33m:\u001b[0m\u001b[1;33m\u001b[0m\u001b[1;33m\u001b[0m\u001b[0m\n\u001b[0;32m    142\u001b[0m         \u001b[0merrorclass\u001b[0m \u001b[1;33m=\u001b[0m \u001b[0mInternalError\u001b[0m \u001b[1;32mif\u001b[0m \u001b[0merrno\u001b[0m \u001b[1;33m<\u001b[0m \u001b[1;36m1000\u001b[0m \u001b[1;32melse\u001b[0m \u001b[0mOperationalError\u001b[0m\u001b[1;33m\u001b[0m\u001b[1;33m\u001b[0m\u001b[0m\n\u001b[1;32m--> 143\u001b[1;33m     \u001b[1;32mraise\u001b[0m \u001b[0merrorclass\u001b[0m\u001b[1;33m(\u001b[0m\u001b[0merrno\u001b[0m\u001b[1;33m,\u001b[0m \u001b[0merrval\u001b[0m\u001b[1;33m)\u001b[0m\u001b[1;33m\u001b[0m\u001b[1;33m\u001b[0m\u001b[0m\n\u001b[0m",
      "\u001b[1;31mOperationalError\u001b[0m: (1054, \"Unknown column 'rating' in 'field list'\")"
     ]
    }
   ],
   "source": [
    "cursorObject.execute('''INSERT INTO user_rating (web_id, rating) values (%s, %s)''', (df[\"web_id\"][0], df['rating'][0]))\n",
    "conn.commit()"
   ]
  },
  {
   "cell_type": "code",
   "execution_count": null,
   "id": "bd88e6e6",
   "metadata": {},
   "outputs": [],
   "source": []
  }
 ],
 "metadata": {
  "kernelspec": {
   "display_name": "Python 3 (ipykernel)",
   "language": "python",
   "name": "python3"
  },
  "language_info": {
   "codemirror_mode": {
    "name": "ipython",
    "version": 3
   },
   "file_extension": ".py",
   "mimetype": "text/x-python",
   "name": "python",
   "nbconvert_exporter": "python",
   "pygments_lexer": "ipython3",
   "version": "3.9.7"
  }
 },
 "nbformat": 4,
 "nbformat_minor": 5
}
